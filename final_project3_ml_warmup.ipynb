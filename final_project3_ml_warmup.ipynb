{
  "nbformat": 4,
  "nbformat_minor": 0,
  "metadata": {
    "colab": {
      "name": "final_project3_ml_warmup.ipynb",
      "provenance": [],
      "collapsed_sections": [
        "faHlhArpv1Ee",
        "cpBb4DoSE3zG",
        "5yblSw7mUPER"
      ],
      "include_colab_link": true
    },
    "kernelspec": {
      "name": "python3",
      "display_name": "Python 3"
    }
  },
  "cells": [
    {
      "cell_type": "markdown",
      "metadata": {
        "id": "view-in-github",
        "colab_type": "text"
      },
      "source": [
        "<a href=\"https://colab.research.google.com/github/zolachu/cs145_project3/blob/main/final_project3_ml_warmup.ipynb\" target=\"_parent\"><img src=\"https://colab.research.google.com/assets/colab-badge.svg\" alt=\"Open In Colab\"/></a>"
      ]
    },
    {
      "cell_type": "markdown",
      "metadata": {
        "id": "jMKwOgSYfHBU"
      },
      "source": [
        "# CS145: Project 3 | ML Warmup (10 points)\n",
        "---\n",
        "Notes (read carefully!):\n",
        "* Be sure you read the instructions on each cell and understand what it is doing before running it.\n",
        "* Don't forget that if you can always re-download the starter notebook from the course website if you need to.\n",
        "* You may create new cells to use for testing, debugging, exploring, etc., and this is in fact encouraged! Just make sure that the final answer for each question is **in its own cell** and **clearly indicated**.\n",
        "* Colab will not warn you about how many bytes your SQL query will consume.  **Be sure to check on the BigQuery UI first before running queries here!**\n",
        "* This project may be done alone or in pairs.\n",
        "* See the assignment handout for submission instructions."
      ]
    },
    {
      "cell_type": "markdown",
      "metadata": {
        "id": "NesZcATkfnq0"
      },
      "source": [
        "## Setting Up BigQuery and Dependencies\n"
      ]
    },
    {
      "cell_type": "markdown",
      "metadata": {
        "id": "pOutY8Csskgi"
      },
      "source": [
        "Run the cells below (shift + enter) to authenticate your project. \n",
        "\n",
        "Note that you need to fill in the `project_id` variable with the Google Cloud project id you are using for this course.  You can see your project ID by going to https://console.cloud.google.com/cloud-resource-manager"
      ]
    },
    {
      "cell_type": "code",
      "metadata": {
        "id": "lyFqjDKmfSkU"
      },
      "source": [
        "# Run this cell to authenticate yourself to BigQuery\n",
        "from google.colab import auth\n",
        "auth.authenticate_user()\n",
        "project_id = \"cs145-project3-294103\""
      ],
      "execution_count": null,
      "outputs": []
    },
    {
      "cell_type": "code",
      "metadata": {
        "id": "8L-LT4rEko06"
      },
      "source": [
        "# Initialize BiqQuery client\n",
        "from google.cloud import bigquery\n",
        "client = bigquery.Client(project=project_id)"
      ],
      "execution_count": null,
      "outputs": []
    },
    {
      "cell_type": "markdown",
      "metadata": {
        "id": "pInaYkgjfwZt"
      },
      "source": [
        "# Overview\n",
        "\n",
        "This part of Project 3 is meant serve as a brief tutorial for Machine Learning with BigQuery, since you will be using BigQuery Prediction in the final portion of your explorations.\n",
        "\n",
        "Don't worry if you've never studied Machine Learning before. This notebook will guide you through everything you need to know to be successful in the open-ended part of Project 3. "
      ]
    },
    {
      "cell_type": "markdown",
      "metadata": {
        "id": "Z9nrJtByq6Q-"
      },
      "source": [
        "In the next two sections, we'll give you a bird's eye intro to machine learning and a primer on how BigQuery makes machine learning easy. In the third and last section, you'll walk through an example of how to train and use a machine learning model in BigQuery."
      ]
    },
    {
      "cell_type": "markdown",
      "metadata": {
        "id": "_xCUsFh8iyho"
      },
      "source": [
        "# Section 1: Machine Learning in a Nutshell\n",
        "\n",
        "Basic Machine Learning tasks can be framed in terms of **inputs** $X$, **target values** $Y$ (sometimes called labels), **training data** (pairs of observed data points $(x_i, y_i)$), and a function $h:X \\rightarrow Y$ historically called the **hypothesis function** that maps inputs to target values.  \n",
        "\n",
        "Given these primitives, we can think of the canonical Machine Learning task as follows:\n",
        "\n",
        "> Given that I've seen a ton of training data $(x_1, y_1), ..., (x_m, y_m)$, how can I come up with a good function $h$ so that on an *unseen* input value $x_{m+1}$, the value of $h(x_{m+1})$ is a good \"prediction\" $y_{m+1}$?\n",
        "\n"
      ]
    },
    {
      "cell_type": "markdown",
      "metadata": {
        "id": "faHlhArpv1Ee"
      },
      "source": [
        "#### Example 1: Three Point Shots\n",
        "Say elements of $X$ are the number of three point shots scored by a team in a basketball game, and elements of $Y$ are $0$ or $1$ indicating whether that team lost or won the game.  Our training data could look like this:\n",
        "​\n",
        "> $T = \\{(2, 0), (3, 0), (6, 0), (5, 0), (10, 0), (11, 0), (5, 1), (15, 1), (18, 0), (17, 1), (16, 1), (16, 1)\\}$\n",
        "\n",
        "\n",
        "In this case, we'd *train* a machine learning model on $T$ to effectively generate an $h$ that would give us reasonable values of $y$ for unseen values of $x$, i.e., predict whether a game was won or not based on how many three pointers were scored on that game.  For example, we might expect that $h(1) \\approx 0$, and \n",
        "$h(20) \\approx 1$. Note that in this case, we'd like $h$ to output not only a 0 or 1 but a *probability* for how likely a game is to be won, hence the approximate equalities.\n",
        "​"
      ]
    },
    {
      "cell_type": "markdown",
      "metadata": {
        "id": "_MwXnNwUv93x"
      },
      "source": [
        "#### Example 2: GitHub Revisited\n",
        "\n",
        "For a richer example, let's say we are trying to predict how many *forks* (i.e., copies of the repo by GitHub users besides the original owner) a Github repo will have at some point in time -- here $Y$ will represent the number of forks of a repo.  As you might have seen in Project 2, such questions are usually not easily answerable with only one or two statistics of a Github repo.  We usually want to think about several *features* together.  What are the watch and star count of the repo? How many contributors does the repo have? How many files does the repo have? What is the age of the repo in years?  \n",
        "\n",
        "The values in $X$ *need not be single real numbers*, they can be lists of real numbers as well, and we can use feature engineering to come up with these feature lists.\n",
        "\n",
        "*Feature engineering* is the most informal process by which we use domain-knowledge to extract numerical features from some entity (e.g., a GitHub repo in this example), to provide them as training data to a machine learning model.\n",
        "\n",
        "Here is how a simple feature engineering process for predicting the fork count of a GitHub repo may pan out:\n",
        "\n",
        "##### Simple feature engineering process\n",
        "\n",
        "1. Using domain knowledge, you hypothesize that watch count, star count, number of commits, and age of the repo will probably be good indicators of its fork count.  You also toss in the average commit length of the repo because you know it has some non-trivial relationship with watch count based on anecdotal evidence from a certain project in your friend's database course.\n",
        "2. You write some code in your favorite programming language (or SQL if using BigQuery!) to extract these five features from your set of 1,000 GitHub repos, creating 1,000 tuples that look like this:\n",
        "\n",
        "> $((45, 100, 200, 2.4, 127.65), 30), ((65, 302, 100, 1.2, 164.1), 132) \\dots $\n",
        "\n",
        "3. You train your model on this data and evaluate it on another 100 repos **which your model has not yet seen**.  If the quality of your results (the accuracy of your predictions) is not so good, you may attempt to improve the quality of your features. If performance is good, you are done and have a decent model!\n",
        "\n",
        "4. If you think the current features you thought about are not good enough, you can go back to 1 and brainstorm more."
      ]
    },
    {
      "cell_type": "markdown",
      "metadata": {
        "id": "E6AGrUmvRMab"
      },
      "source": [
        "Once you have honed in on a good set features which you have trained with and evaluated, you can now predict using your model. This should be done on an additional test dataset that **your model has also not yet seen**."
      ]
    },
    {
      "cell_type": "markdown",
      "metadata": {
        "id": "cpBb4DoSE3zG"
      },
      "source": [
        "### Evaluating your Models\n",
        "\n",
        "In Example 2, we said that the feature engineering process involves a key step in which you *evaluate* how good your model (aka hypothesis function $h$) is doing.  Usually this consists of:\n",
        "\n",
        "1. Running your hypothesis function $h$ on a set of inputs $X$ which you have not already seen to get outputs $h(x_{m+1}), \\dots, h(x_{m+k})$\n",
        "2. Comparing how close your predicted values are to the ground-truth labels $y_{m+1}, \\dots, y_{m+k}$ using a reasonable statistical metric(s). \n",
        "\n",
        "The \"reasonable statistical metric\" varies depending on the nature of your labels.\n",
        "\n",
        "Here's a very brief overview of when you might want to use different metrics:\n",
        "* **Accuracy** - when your classes are balanced (roughly same number of examples expected for each category)\n",
        "* **F1-score** - when your classes are very unbalanced (some categories are expected to have way more examples than other categories)\n",
        "* **Recall** - when you are more willing to have false positives than false negatives (e.g., predicting rare cancer - you'd rather have a false alarm than miss an actual case)\n",
        "* **Precision** - when you are more willing to have false negatives than false positives (e.g., predicting spam emails - you'd rather have some spam in your inbox than have important emails go to spam)\n",
        "* **RMS error** - when trying to predict a real value\n",
        "\n",
        "There are many more ways to evaluate models, but deeper discussion is beyond the scope of this assignment and course. "
      ]
    },
    {
      "cell_type": "markdown",
      "metadata": {
        "id": "5yblSw7mUPER"
      },
      "source": [
        "### Data Splits\n",
        "\n",
        "Overall, when doing machine learning, you should have three datasets:\n",
        "* Training dataset - the bulk of your data, which you use to let your model learn a hypothesis function $h$\n",
        "* Validation dataset - a small portion of your data, used to evaluate your trained model as you try out different features and other possible hyperparameters.\n",
        "* Test dataset - a small portion of your data, used to evaluate your **final model** when you are done picking features and tuning your model. You should not be running any models on this data to help choose relevant features.\n",
        "\n",
        "Common splits for machine learning datasets are to take 80% of data for training, 10% for validation, and 10% for testing, but many other splits are acceptable depending on how much data is available. "
      ]
    },
    {
      "cell_type": "markdown",
      "metadata": {
        "id": "hmPqespz4qP2"
      },
      "source": [
        "## Types of Models\n",
        "​\n",
        "BigQuery supports three types of models: *linear regression, binary logistic regression, and multiclass logistic regression*.\n",
        "\n",
        "\n",
        "* A *linear regression model* predicts a number, i.e., $Y = \\mathbb{R}$. \n",
        "\n",
        "\n",
        "* A *binary logistic regression model* makes a binary prediction by giving the confidence of an event, e.g., is an email spam or not?\n",
        "\n",
        "* A *multiclass logistic regression model* is a generalization of the binary logistic regression model.  E.g., what is the sentiment bucket of a sentence, from 1 (negative) to 5 (positive).\n",
        "\n",
        "Example 1 above is a binary logistic regression model, and Example 2 is a linear regression model. You can use any of these three models in your project."
      ]
    },
    {
      "cell_type": "markdown",
      "metadata": {
        "id": "5NXULYvVNAB9"
      },
      "source": [
        "If you have not already studied machine learning and are interested in digging into more details, reading section 1 of the CS229 notes [here](http://cs229.stanford.edu/notes/cs229-notes1.pdf) will cover the basic topics discussed here and expand on them. However, the information in this notebook will be sufficient to complete Project 3."
      ]
    },
    {
      "cell_type": "markdown",
      "metadata": {
        "id": "5zbORTWqrPS1"
      },
      "source": [
        "# Section 2: BigQuery and ML\n",
        "\n",
        "In the previous section, we did not cover how the hypothesis function $h$ is actually generated from training data.  Luckily for us, BigQuery abstracts the details of this process away from us and instead exposes a nice SQL interface for ML which we already know how to work with!\n",
        "\n",
        "Machine Learning in BigQuery consists of three steps: creating a model, evaluating the model, and using the model to make predictions."
      ]
    },
    {
      "cell_type": "markdown",
      "metadata": {
        "id": "ObgL_ttqF7LW"
      },
      "source": [
        "#### Creating a Model\n",
        "\n",
        "This step consists of telling BigQuery that you want to create a model.  You tell BigQuery what type of model you want to create, and you write SQL to gather the features and ground-truth values for the model. \n",
        "\n",
        "The create model statement could look like this:"
      ]
    },
    {
      "cell_type": "code",
      "metadata": {
        "id": "exVy7D1bJB6m"
      },
      "source": [
        "# Don't run me!  My tables don't exist. I'm just here as an example.\n",
        "%%bigquery --project $project_id\n",
        "\n",
        "CREATE MODEL `my_awesome_model`\n",
        "OPTIONS(model_type='logistic_reg') AS\n",
        "SELECT\n",
        "  IF(my_awesome_database.ground_truth IS NULL, 0, 1) AS label,  # if ground_truth is NULL then label is 0, else 1\n",
        "  IFNULL(my_awesome_database.feature1, \"\") AS feature1,         # converts NULL values to \"\"\n",
        "  my_awesome_database.feature2 AS feature2,\n",
        "  my_awesome_database.feature3 AS feature3,\n",
        "  my_awesome_database.feature2 * my_awesome_database.feature3 AS feature4\n",
        "FROM\n",
        "  `my_awesome_database`\n",
        "WHERE\n",
        "  my_awesome_database.date BETWEEN 2010 AND 2015"
      ],
      "execution_count": null,
      "outputs": []
    },
    {
      "cell_type": "markdown",
      "metadata": {
        "id": "oTEg5g9JJiXR"
      },
      "source": [
        "One thing to note: `CREATE MODEL` will fail if the model with that name has already been created. If you're retraining your model, for example, you'll want to use `CREATE OR REPLACE MODEL` as the first line instead.\n",
        "\n",
        "See this page for documentation: https://cloud.google.com/bigquery/docs/reference/standard-sql/bigqueryml-syntax-create"
      ]
    },
    {
      "cell_type": "markdown",
      "metadata": {
        "id": "OOCRI0qoF7xH"
      },
      "source": [
        "#### Evaluating the Model\n",
        "\n",
        "Once you've created your model, BigQuery has already trained it for you -- you already have a $h$ at your disposal ready to evaluate!  We evaluate $h$ by asking BigQuery to predict the $Y$ values of **new data unseen by the model** and compare them to ground-truth values.\n",
        "\n",
        "To evaluate a model you'd do something like this:"
      ]
    },
    {
      "cell_type": "code",
      "metadata": {
        "id": "Ae4ETQDAKJzA"
      },
      "source": [
        "# Don't run me!  My tables don't exist. I'm just here as an example.\n",
        "%%bigquery --project $project_id\n",
        "\n",
        "SELECT\n",
        "  *\n",
        "FROM\n",
        "  ML.EVALUATE(MODEL `my_awesome_model`, (\n",
        "SELECT\n",
        "  IF(my_awesome_database.ground_truth IS NULL, 0, 1) AS label,\n",
        "  IFNULL(my_awesome_database.feature1, \"\") AS feature1,\n",
        "  my_awesome_database.feature2 AS feature2,\n",
        "  my_awesome_database.feature3 AS feature3,\n",
        "  my_awesome_database.feature2 * my_awesome_database.feature3 AS feature4\n",
        "FROM\n",
        "  `my_awesome_database`\n",
        "WHERE\n",
        "  my_awesome_database.date BETWEEN 2016 AND 2017)) "
      ],
      "execution_count": null,
      "outputs": []
    },
    {
      "cell_type": "markdown",
      "metadata": {
        "id": "RrMgxk9KK5Pf"
      },
      "source": [
        "Note that we are evaluating on data between 2016 and 2017, even though we trained on data between\n",
        "2010 and 2015.  **This is important!!**  If we did not do this, we would be \"cheating\" since the model has already\n",
        "seen a training value corresponding to the one you are trying to evaluate.  If the model was a simple lookup\n",
        "table, it would get 100% accuracy on everything it's already seen trivially. Also, we'll generally use a much larger amount of data for training than for evaluating or testing."
      ]
    },
    {
      "cell_type": "markdown",
      "metadata": {
        "id": "8SKiLOwLLLuo"
      },
      "source": [
        "See this page for documentation: https://cloud.google.com/bigquery/docs/reference/standard-sql/bigqueryml-syntax-evaluate.  Note the `ML.EVALUATE` function is one of three functions you can use to evaluate your model, depending on your task."
      ]
    },
    {
      "cell_type": "markdown",
      "metadata": {
        "id": "nkdTSLs3F78X"
      },
      "source": [
        "#### Exercising the Model\n",
        "\n",
        "If your model achieves good evaluation metrics (see [this](https://cloud.google.com/bigquery/docs/bigqueryml-analyst-start#step_four_evaluate_your_model) section of the BigQuery ML tutorial for data analysts for context on what 'good' evaluation metrics are), you can now utilize your model to predict values. Again, this should be done on data that the model has not seen.\n",
        "\n",
        "Assuming you have a trained model, you can predict values like this:"
      ]
    },
    {
      "cell_type": "code",
      "metadata": {
        "id": "zRYSk65gLnhk"
      },
      "source": [
        "# Don't run me!  My tables don't exist. I'm just here as an example.\n",
        "%%bigquery --project $project_id\n",
        "\n",
        "SELECT\n",
        "  my_awesome_database.key,\n",
        "  predicted_label\n",
        "FROM\n",
        "  ML.PREDICT(MODEL `my_awesome_model`, ( \n",
        "SELECT\n",
        "  IFNULL(my_awesome_database.feature1, \"\") AS feature1,\n",
        "  my_awesome_database.feature2 AS feature2,\n",
        "  my_awesome_database.feature3 AS feature3,\n",
        "  my_awesome_database.feature2 * my_awesome_database.feature3 AS feature4\n",
        "FROM\n",
        "  `my_awesome_database`\n",
        "WHERE\n",
        "  my_awesome_database.date BETWEEN 2018.01 AND 2018.02))"
      ],
      "execution_count": null,
      "outputs": []
    },
    {
      "cell_type": "markdown",
      "metadata": {
        "id": "L-H74FvpMSnD"
      },
      "source": [
        "See this page for documentation: https://cloud.google.com/bigquery/docs/reference/standard-sql/bigqueryml-syntax-predict."
      ]
    },
    {
      "cell_type": "markdown",
      "metadata": {
        "id": "2Fg_3vs9F8du"
      },
      "source": [
        "For more details and an end-to-end example in BigQuery, read the following article: https://cloud.google.com/bigquery/docs/bigqueryml-analyst-start."
      ]
    },
    {
      "cell_type": "markdown",
      "metadata": {
        "id": "lg4K0aisqm3x"
      },
      "source": [
        "# Section 3: Now it's Your Turn!\n",
        "\n",
        "Let's now dive into an exercise using BigQuery and ML! This is a fairly simple warm-up problem to help you gain hands-on experience working with BQML. You'll get to dive into much more depth with your open-ended project!  You'll be going through the three steps described in the previous section on your own.\n",
        "\n",
        "For this problem, we're going to be working with the Austin bikeshare dataset  available in BigQuery public dataset. Take a moment to familiarize yourself with the data we have at hand.\n",
        "\n",
        "To access the dataset:\n",
        "- Go to https://console.cloud.google.com/bigquery. You should see “bigquery-public-data” pinned on the left menu.\n",
        "- Click on “bigquery-public-data” and scroll until you find the dataset `austin_bikeshare`.\n",
        "- Click on the dataset. You’ll see a brief description of what information the dataset contains, as well as a brief overview of information such as the dataset size.\n",
        "\n",
        "\n",
        "Notice we have various pieces of information about each trip - for example, the stations where the biker started and ended, with the corresponding latitude/longitude, the date of the ride, the subscriber type, and the duration of the trip in minutes.\n"
      ]
    },
    {
      "cell_type": "markdown",
      "metadata": {
        "id": "391ISLXuKZtB"
      },
      "source": [
        "Our goal in this exercise will be the following:\n",
        "\n",
        "> *Given attributes about a ride, can we predict whether a bike ride will be a \"quick\" ride?  Let's define a \"quick\" ride as a ride that takes less than 15 minutes.*\n",
        "\n",
        "Note this is a *binary logistic regression task*, or classification task, where, given attributes about a ride, we predict one of two labels: 1 = quick (< 15 minutes); 0 = not quick (>= 15 minutes).\n",
        "\n",
        "Once we've trained our model, we can then use it to help predict on unlabeled data. In particular, we can use it to help fill in missing data - some bike rides have a different start/end station, but have a duration of 0 minutes (likely missing data).\n",
        "\n",
        "Let's dive in!\n"
      ]
    },
    {
      "cell_type": "markdown",
      "metadata": {
        "id": "5Bg24pgTQlpN"
      },
      "source": [
        "### Step 1: Look at the data (1 point)\n",
        "\n",
        "In any ML task, it's important to first explore the data. Investigating correlations between attributes as you did in Project 2 can help you determine which attributes may be useful as training features, and will be important for your final project. And, looking into the distribution of labels, you want the prediction to give you a better understanding of the distribution of your data (such as whether your dataset is *balanced*). For this exercise, we'll dig into the latter."
      ]
    },
    {
      "cell_type": "markdown",
      "metadata": {
        "id": "BPEQw4IcdOgY"
      },
      "source": [
        "**a) What percentage of rides are \"quick\"? Recall that we have: quick ride: < 15 minutes; not quick: >= 15 minutes. Filter out rides with a duration of 0 minutes.**\n",
        "\n",
        "Hint: [COUNTIF](https://cloud.google.com/bigquery/docs/reference/standard-sql/functions-and-operators#countif) may be helpful."
      ]
    },
    {
      "cell_type": "code",
      "metadata": {
        "id": "JqHC8-NAVm5v",
        "outputId": "bb7de67b-3b2e-4213-8a56-57101807b4b0",
        "colab": {
          "base_uri": "https://localhost:8080/",
          "height": 77
        }
      },
      "source": [
        "%%bigquery --project $project_id \n",
        "\n",
        "# YOUR QUERY HERE\n",
        "SELECT COUNTIF(duration_minutes < 15) / COUNT(*)*100 as percentage\n",
        "FROM `bigquery-public-data.austin_bikeshare.bikeshare_trips` \n",
        "WHERE duration_minutes != 0\n"
      ],
      "execution_count": null,
      "outputs": [
        {
          "output_type": "execute_result",
          "data": {
            "text/html": [
              "<div>\n",
              "<style scoped>\n",
              "    .dataframe tbody tr th:only-of-type {\n",
              "        vertical-align: middle;\n",
              "    }\n",
              "\n",
              "    .dataframe tbody tr th {\n",
              "        vertical-align: top;\n",
              "    }\n",
              "\n",
              "    .dataframe thead th {\n",
              "        text-align: right;\n",
              "    }\n",
              "</style>\n",
              "<table border=\"1\" class=\"dataframe\">\n",
              "  <thead>\n",
              "    <tr style=\"text-align: right;\">\n",
              "      <th></th>\n",
              "      <th>percentage</th>\n",
              "    </tr>\n",
              "  </thead>\n",
              "  <tbody>\n",
              "    <tr>\n",
              "      <th>0</th>\n",
              "      <td>54.873544</td>\n",
              "    </tr>\n",
              "  </tbody>\n",
              "</table>\n",
              "</div>"
            ],
            "text/plain": [
              "   percentage\n",
              "0   54.873544"
            ]
          },
          "metadata": {
            "tags": []
          },
          "execution_count": 46
        }
      ]
    },
    {
      "cell_type": "markdown",
      "metadata": {
        "id": "0F5oI_l1DUwH"
      },
      "source": [
        "```\n",
        " So the 54.87% of the rides with a duration of more than 0 minute are \"quick\"\n",
        "```"
      ]
    },
    {
      "cell_type": "markdown",
      "metadata": {
        "id": "J4wXw4xUe8XP"
      },
      "source": [
        "**b) What percentage of rides have a different start/end station, but have a value of 0 for their duration? How many rides is this? Write a query that returns the count in one column and the percentage in another. The denominator for the percentage should be all rides, regardless of duration.**\n",
        "\n",
        "Hint: [COUNTIF](https://cloud.google.com/bigquery/docs/reference/standard-sql/functions-and-operators#countif) may be helpful.\n",
        "\n",
        "Hint: `end_station_id` is a string instead of an integer. Use `CAST(end_station_id AS INT64)` as needed in this and future questions."
      ]
    },
    {
      "cell_type": "code",
      "metadata": {
        "id": "slr4JOFTVt0N",
        "outputId": "4575a64c-e14a-4db7-d62c-e60212458b4e",
        "colab": {
          "base_uri": "https://localhost:8080/",
          "height": 77
        }
      },
      "source": [
        "%%bigquery --project $project_id\n",
        "\n",
        "# YOUR QUERY HERE\n",
        "\n",
        "SELECT  COUNTIF((duration_minutes = 0) AND (start_station_id != CAST(end_station_id AS INT64))) as count, \n",
        "        COUNTIF((duration_minutes = 0) AND (start_station_id != CAST(end_station_id AS INT64))) /  COUNT(*)* 100 as percentage\n",
        "FROM `bigquery-public-data.austin_bikeshare.bikeshare_trips` "
      ],
      "execution_count": null,
      "outputs": [
        {
          "output_type": "execute_result",
          "data": {
            "text/html": [
              "<div>\n",
              "<style scoped>\n",
              "    .dataframe tbody tr th:only-of-type {\n",
              "        vertical-align: middle;\n",
              "    }\n",
              "\n",
              "    .dataframe tbody tr th {\n",
              "        vertical-align: top;\n",
              "    }\n",
              "\n",
              "    .dataframe thead th {\n",
              "        text-align: right;\n",
              "    }\n",
              "</style>\n",
              "<table border=\"1\" class=\"dataframe\">\n",
              "  <thead>\n",
              "    <tr style=\"text-align: right;\">\n",
              "      <th></th>\n",
              "      <th>count</th>\n",
              "      <th>percentage</th>\n",
              "    </tr>\n",
              "  </thead>\n",
              "  <tbody>\n",
              "    <tr>\n",
              "      <th>0</th>\n",
              "      <td>2139</td>\n",
              "      <td>0.16921</td>\n",
              "    </tr>\n",
              "  </tbody>\n",
              "</table>\n",
              "</div>"
            ],
            "text/plain": [
              "   count  percentage\n",
              "0   2139     0.16921"
            ]
          },
          "metadata": {
            "tags": []
          },
          "execution_count": 47
        }
      ]
    },
    {
      "cell_type": "markdown",
      "metadata": {
        "id": "6-pwtPMYFFr2"
      },
      "source": [
        "```\n",
        "0.16921% of the rides have a different start/end station.\n",
        "\n",
        "Also, 2139 rides have a value of 0 for their duration, and have different start/end station.\n",
        "```"
      ]
    },
    {
      "cell_type": "markdown",
      "metadata": {
        "id": "lLY2CfJ7RWcT"
      },
      "source": [
        "### Step 2: Create a dataset to store the model\n",
        "\n",
        "When you create and train a model, BigQuery will store the model in a dataset. Before training, you'll first need to create a new empty dataset. Note that you only need to do this step once. If you later update your model, it can replace the existing one. \n",
        "\n",
        "You can also do this step in the UI (see 'create your dataset': https://cloud.google.com/bigquery/docs/bigqueryml-analyst-start ).\n",
        "\n",
        "Let's call our dataset `bqml_bikeshare`. After either running the cell below, or creating the dataset with the BigQuery UI, you should see the dataset name appear in the left column of the UI."
      ]
    },
    {
      "cell_type": "code",
      "metadata": {
        "id": "CMlA4qtYSnH8"
      },
      "source": [
        "# Run this cell to create a dataset to store your model, or create in the UI\n",
        "\n",
        "model_dataset_name = 'bqml_bikeshare'\n",
        "\n",
        "dataset = bigquery.Dataset(client.dataset(model_dataset_name))\n",
        "dataset.location = 'US'\n",
        "client.create_dataset(dataset)"
      ],
      "execution_count": null,
      "outputs": []
    },
    {
      "cell_type": "markdown",
      "metadata": {
        "id": "SgyJkl_LQvj9"
      },
      "source": [
        "### Step 3: Extract training data from BigQuery (2 points)\n",
        "\n",
        "**Write a SQL query that extracts training data from the dataset. These are features that you want to feed into your model. For this part, you do not need to do feature engineering - you can simply pull raw features from the tables that you think may be helpful.**\n",
        "\n",
        "Your query should return a column called `label` with the target label value (our \"Y\" value), and additional columns for some features you want to use (our \"X\" values).  Note:\n",
        "- recall: `label` value is 1 for quick rides (< 15 minutes), and 0 otherwise (>= 15 minutes)\n",
        "- duration_minutes cannot be a training feature - we're trying to predict (a boolean version of) this\n",
        "- filter out any rides with a duration of 0 minutes\n",
        "\n",
        "Display the first 10 rows of the table returned by your query.\n",
        "\n",
        "Hint: For information about extracting values from a timestamp, refer to https://cloud.google.com/bigquery/docs/reference/standard-sql/timestamp_functions#extract"
      ]
    },
    {
      "cell_type": "code",
      "metadata": {
        "id": "E2Fd92Ch4fpz",
        "outputId": "9b48ed46-391c-4d93-ed4a-1363df9d7a2f",
        "colab": {
          "base_uri": "https://localhost:8080/",
          "height": 343
        }
      },
      "source": [
        "%%bigquery --project $project_id\n",
        "\n",
        "# YOUR QUERY HERE\n",
        "\n",
        "SELECT CASE WHEN (duration_minutes < 15) = TRUE THEN 1 ELSE 0 END AS label, \n",
        "        DATE(start_time) as start_time, \n",
        "        subscriber_type, bikeid,\n",
        "         (SELECT status\n",
        "         FROM `bigquery-public-data.austin_bikeshare.bikeshare_stations` P\n",
        "         WHERE T.start_station_id = P.station_id) as start_status,\n",
        "         (SELECT status \n",
        "         FROM `bigquery-public-data.austin_bikeshare.bikeshare_stations` P\n",
        "         WHERE P.station_id = SAFE_CAST(T.end_station_id AS INT64)) as end_status, T.duration_minutes \n",
        "        \n",
        "FROM `bigquery-public-data.austin_bikeshare.bikeshare_trips` T\n",
        "ORDER BY start_time\n",
        "LIMIT 10"
      ],
      "execution_count": null,
      "outputs": [
        {
          "output_type": "execute_result",
          "data": {
            "text/html": [
              "<div>\n",
              "<style scoped>\n",
              "    .dataframe tbody tr th:only-of-type {\n",
              "        vertical-align: middle;\n",
              "    }\n",
              "\n",
              "    .dataframe tbody tr th {\n",
              "        vertical-align: top;\n",
              "    }\n",
              "\n",
              "    .dataframe thead th {\n",
              "        text-align: right;\n",
              "    }\n",
              "</style>\n",
              "<table border=\"1\" class=\"dataframe\">\n",
              "  <thead>\n",
              "    <tr style=\"text-align: right;\">\n",
              "      <th></th>\n",
              "      <th>label</th>\n",
              "      <th>start_time</th>\n",
              "      <th>subscriber_type</th>\n",
              "      <th>bikeid</th>\n",
              "      <th>start_status</th>\n",
              "      <th>end_status</th>\n",
              "      <th>duration_minutes</th>\n",
              "    </tr>\n",
              "  </thead>\n",
              "  <tbody>\n",
              "    <tr>\n",
              "      <th>0</th>\n",
              "      <td>0</td>\n",
              "      <td>2013-12-21</td>\n",
              "      <td>24-Hour Kiosk (Austin B-cycle)</td>\n",
              "      <td>974</td>\n",
              "      <td>active</td>\n",
              "      <td>active</td>\n",
              "      <td>33</td>\n",
              "    </tr>\n",
              "    <tr>\n",
              "      <th>1</th>\n",
              "      <td>0</td>\n",
              "      <td>2013-12-21</td>\n",
              "      <td>24-Hour Kiosk (Austin B-cycle)</td>\n",
              "      <td>354</td>\n",
              "      <td>active</td>\n",
              "      <td>active</td>\n",
              "      <td>30</td>\n",
              "    </tr>\n",
              "    <tr>\n",
              "      <th>2</th>\n",
              "      <td>1</td>\n",
              "      <td>2013-12-21</td>\n",
              "      <td>Annual Membership (Austin B-cycle)</td>\n",
              "      <td>327</td>\n",
              "      <td>active</td>\n",
              "      <td>active</td>\n",
              "      <td>5</td>\n",
              "    </tr>\n",
              "    <tr>\n",
              "      <th>3</th>\n",
              "      <td>0</td>\n",
              "      <td>2013-12-21</td>\n",
              "      <td>24-Hour Kiosk (Austin B-cycle)</td>\n",
              "      <td>281</td>\n",
              "      <td>active</td>\n",
              "      <td>active</td>\n",
              "      <td>62</td>\n",
              "    </tr>\n",
              "    <tr>\n",
              "      <th>4</th>\n",
              "      <td>1</td>\n",
              "      <td>2013-12-21</td>\n",
              "      <td>24-Hour Kiosk (Austin B-cycle)</td>\n",
              "      <td>287</td>\n",
              "      <td>active</td>\n",
              "      <td>closed</td>\n",
              "      <td>12</td>\n",
              "    </tr>\n",
              "    <tr>\n",
              "      <th>5</th>\n",
              "      <td>1</td>\n",
              "      <td>2013-12-21</td>\n",
              "      <td>Annual Membership (Austin B-cycle)</td>\n",
              "      <td>453</td>\n",
              "      <td>active</td>\n",
              "      <td>active</td>\n",
              "      <td>10</td>\n",
              "    </tr>\n",
              "    <tr>\n",
              "      <th>6</th>\n",
              "      <td>1</td>\n",
              "      <td>2013-12-21</td>\n",
              "      <td>Annual Membership (Austin B-cycle)</td>\n",
              "      <td>823</td>\n",
              "      <td>active</td>\n",
              "      <td>active</td>\n",
              "      <td>2</td>\n",
              "    </tr>\n",
              "    <tr>\n",
              "      <th>7</th>\n",
              "      <td>1</td>\n",
              "      <td>2013-12-21</td>\n",
              "      <td>24-Hour Kiosk (Austin B-cycle)</td>\n",
              "      <td>647</td>\n",
              "      <td>active</td>\n",
              "      <td>active</td>\n",
              "      <td>9</td>\n",
              "    </tr>\n",
              "    <tr>\n",
              "      <th>8</th>\n",
              "      <td>1</td>\n",
              "      <td>2013-12-21</td>\n",
              "      <td>24-Hour Kiosk (Austin B-cycle)</td>\n",
              "      <td>282</td>\n",
              "      <td>active</td>\n",
              "      <td>active</td>\n",
              "      <td>3</td>\n",
              "    </tr>\n",
              "    <tr>\n",
              "      <th>9</th>\n",
              "      <td>0</td>\n",
              "      <td>2013-12-21</td>\n",
              "      <td>24-Hour Kiosk (Austin B-cycle)</td>\n",
              "      <td>348</td>\n",
              "      <td>active</td>\n",
              "      <td>active</td>\n",
              "      <td>185</td>\n",
              "    </tr>\n",
              "  </tbody>\n",
              "</table>\n",
              "</div>"
            ],
            "text/plain": [
              "   label  start_time  ... end_status duration_minutes\n",
              "0      0  2013-12-21  ...     active               33\n",
              "1      0  2013-12-21  ...     active               30\n",
              "2      1  2013-12-21  ...     active                5\n",
              "3      0  2013-12-21  ...     active               62\n",
              "4      1  2013-12-21  ...     closed               12\n",
              "5      1  2013-12-21  ...     active               10\n",
              "6      1  2013-12-21  ...     active                2\n",
              "7      1  2013-12-21  ...     active                9\n",
              "8      1  2013-12-21  ...     active                3\n",
              "9      0  2013-12-21  ...     active              185\n",
              "\n",
              "[10 rows x 7 columns]"
            ]
          },
          "metadata": {
            "tags": []
          },
          "execution_count": 33
        }
      ]
    },
    {
      "cell_type": "markdown",
      "metadata": {
        "id": "qlXdPkgiVnfX"
      },
      "source": [
        "### Step 4: Train a simple model (1 point)"
      ]
    },
    {
      "cell_type": "markdown",
      "metadata": {
        "id": "hxcxZ7xOVqtz"
      },
      "source": [
        "**First, an important note:**  it's important to have separate datasets to train, evaluate, and finally test your model. We'll want 3 different subsets of data:\n",
        "\n",
        "1. **Training set**: used to train a model.\n",
        "  - we'll train on rides before 2017 (start_time < '2017-01-01'), with duration time  > 0\n",
        "2. **Evaluation set**: used to evaluate model after training. This should not be data used during training. It can be used multiple times to evaluate and compare the performance of different models.\n",
        "  - we'll evaluate on the next 5 months (start_time between  '2017-01-01' and '2017-06-01'), with duration time > 0\n",
        "3. **Test set**: *should only be used once at the end of your entire training process* to say how your model does on real data. This should not be the same as either training or eval data. Using the test set to tune your model is bad, since it means you are starting to overfit your model (i.e., making your model artificially good on a certain dataset at the possible expense of it doing poorly on new data) to that test set as well.\n",
        "  - we'll test on the 5 months after that (start_time between  '2017-06-01' and '2017-11-01'), with duration time > 0\n",
        "  \n",
        "Note that for all these datasets, we'll filter out rides with duration time = 0. For the purposes of this problem, we'll consider this to be incomplete data."
      ]
    },
    {
      "cell_type": "markdown",
      "metadata": {
        "id": "TdHOdKYdV-n2"
      },
      "source": [
        "Now, let's go ahead and train a simple model. **Create a model, using the query you wrote above to tell the model what features and ground-truth labels to use.** Remember that we're training only on rides before 2017 (start_time < '2017-01-01'), and with a duration time > 0."
      ]
    },
    {
      "cell_type": "markdown",
      "metadata": {
        "id": "rRUB3YafONO4"
      },
      "source": [
        "**Note**: it may take a few minutes to run the query. Also, you may get the error `Table has no schema: call 'client.get_table()'`. This is because notebook cells try to print out the table returned from a SQL query, but the query to create/train a model doesn't return any table at all, so the notebook complains. The model is still trained successfully though. You may ignore this, and can click the (X) in the top left of the output to clear the error message."
      ]
    },
    {
      "cell_type": "code",
      "metadata": {
        "id": "uWz9D7HujGVE"
      },
      "source": [
        "%%bigquery --project $project_id\n",
        "\n",
        "# YOUR QUERY HERE\n",
        "CREATE OR REPLACE MODEL `bqml_bikeshare.bikeshare_model` -- we'll call our model 'bikeshare_model'\n",
        "OPTIONS (model_type='logistic_reg') AS\n",
        "SELECT\n",
        "  label AS label,  # label is 0, or 1\n",
        "  IFNULL(subscriber_type, \"\") AS feature1,\n",
        "  IFNULL(bikeid, \"\") AS feature2,\n",
        "  IFNULL(start_status, \"\") AS feature3,\n",
        "  IFNULL(end_status, \"\") AS feature4\n",
        "FROM\n",
        "  `cs145-project3-294103.bqml_bikeshare.bikeshare_ride`\n",
        "WHERE\n",
        "  start_time < '2017-01-01' AND duration_minutes > 0\n"
      ],
      "execution_count": null,
      "outputs": []
    },
    {
      "cell_type": "markdown",
      "metadata": {
        "id": "rvUv5cq0CD-6"
      },
      "source": [
        "You can get training statistics on your model by running the following cell:"
      ]
    },
    {
      "cell_type": "code",
      "metadata": {
        "id": "wsXSNKUlCDOD",
        "outputId": "825abb93-2b5f-4076-979f-504b25c90644",
        "colab": {
          "base_uri": "https://localhost:8080/",
          "height": 225
        }
      },
      "source": [
        "%%bigquery --project $project_id\n",
        "\n",
        "# Run cell to view training stats\n",
        "\n",
        "SELECT\n",
        "  *\n",
        "FROM\n",
        "  ML.TRAINING_INFO(MODEL `bqml_bikeshare.bikeshare_model`)"
      ],
      "execution_count": null,
      "outputs": [
        {
          "output_type": "execute_result",
          "data": {
            "text/html": [
              "<div>\n",
              "<style scoped>\n",
              "    .dataframe tbody tr th:only-of-type {\n",
              "        vertical-align: middle;\n",
              "    }\n",
              "\n",
              "    .dataframe tbody tr th {\n",
              "        vertical-align: top;\n",
              "    }\n",
              "\n",
              "    .dataframe thead th {\n",
              "        text-align: right;\n",
              "    }\n",
              "</style>\n",
              "<table border=\"1\" class=\"dataframe\">\n",
              "  <thead>\n",
              "    <tr style=\"text-align: right;\">\n",
              "      <th></th>\n",
              "      <th>training_run</th>\n",
              "      <th>iteration</th>\n",
              "      <th>loss</th>\n",
              "      <th>eval_loss</th>\n",
              "      <th>learning_rate</th>\n",
              "      <th>duration_ms</th>\n",
              "    </tr>\n",
              "  </thead>\n",
              "  <tbody>\n",
              "    <tr>\n",
              "      <th>0</th>\n",
              "      <td>0</td>\n",
              "      <td>5</td>\n",
              "      <td>0.562842</td>\n",
              "      <td>0.567109</td>\n",
              "      <td>6.4</td>\n",
              "      <td>11813</td>\n",
              "    </tr>\n",
              "    <tr>\n",
              "      <th>1</th>\n",
              "      <td>0</td>\n",
              "      <td>4</td>\n",
              "      <td>0.566874</td>\n",
              "      <td>0.570523</td>\n",
              "      <td>3.2</td>\n",
              "      <td>10338</td>\n",
              "    </tr>\n",
              "    <tr>\n",
              "      <th>2</th>\n",
              "      <td>0</td>\n",
              "      <td>3</td>\n",
              "      <td>0.589954</td>\n",
              "      <td>0.592427</td>\n",
              "      <td>1.6</td>\n",
              "      <td>10679</td>\n",
              "    </tr>\n",
              "    <tr>\n",
              "      <th>3</th>\n",
              "      <td>0</td>\n",
              "      <td>2</td>\n",
              "      <td>0.626697</td>\n",
              "      <td>0.628034</td>\n",
              "      <td>0.8</td>\n",
              "      <td>10556</td>\n",
              "    </tr>\n",
              "    <tr>\n",
              "      <th>4</th>\n",
              "      <td>0</td>\n",
              "      <td>1</td>\n",
              "      <td>0.659216</td>\n",
              "      <td>0.659818</td>\n",
              "      <td>0.4</td>\n",
              "      <td>10162</td>\n",
              "    </tr>\n",
              "    <tr>\n",
              "      <th>5</th>\n",
              "      <td>0</td>\n",
              "      <td>0</td>\n",
              "      <td>0.680763</td>\n",
              "      <td>0.680966</td>\n",
              "      <td>0.2</td>\n",
              "      <td>7429</td>\n",
              "    </tr>\n",
              "  </tbody>\n",
              "</table>\n",
              "</div>"
            ],
            "text/plain": [
              "   training_run  iteration      loss  eval_loss  learning_rate  duration_ms\n",
              "0             0          5  0.562842   0.567109            6.4        11813\n",
              "1             0          4  0.566874   0.570523            3.2        10338\n",
              "2             0          3  0.589954   0.592427            1.6        10679\n",
              "3             0          2  0.626697   0.628034            0.8        10556\n",
              "4             0          1  0.659216   0.659818            0.4        10162\n",
              "5             0          0  0.680763   0.680966            0.2         7429"
            ]
          },
          "metadata": {
            "tags": []
          },
          "execution_count": 34
        }
      ]
    },
    {
      "cell_type": "markdown",
      "metadata": {
        "id": "cg0fe_zRz3a7"
      },
      "source": [
        "### Step 5: Evaluate (1 point)\n",
        "\n",
        "**Evaluate your model on unseen evaluation data.**\n",
        "\n",
        "Recall for our evaluation set, we're using the 5 months following what we trained on  (use: start_time between '2017-01-01' and  '2017-06-01'), with duration time > 0.\n"
      ]
    },
    {
      "cell_type": "code",
      "metadata": {
        "id": "FHAkE5j_YgB1",
        "outputId": "e290dd38-c97b-432e-9d22-58d2a0b9ff2b",
        "colab": {
          "base_uri": "https://localhost:8080/",
          "height": 77
        }
      },
      "source": [
        "%%bigquery --project $project_id\n",
        "\n",
        "# YOUR QUERY HERE \n",
        "\n",
        "SELECT\n",
        "  *\n",
        "FROM\n",
        "  ML.EVALUATE(MODEL `bqml_bikeshare.bikeshare_model`, (\n",
        "SELECT\n",
        "  label AS label,  # label is 0, or 1\n",
        "  IFNULL(subscriber_type, \"\") AS feature1,\n",
        "  IFNULL(bikeid, \"\") AS feature2,\n",
        "  IFNULL(start_status, \"\") AS feature3,\n",
        "  IFNULL(end_status, \"\") AS feature4\n",
        "FROM\n",
        "  `cs145-project3-294103.bqml_bikeshare.bikeshare_ride`\n",
        "WHERE\n",
        "  (start_time BETWEEN '2017-01-01' AND '2017-06-01') AND duration_minutes > 0))\n"
      ],
      "execution_count": null,
      "outputs": [
        {
          "output_type": "execute_result",
          "data": {
            "text/html": [
              "<div>\n",
              "<style scoped>\n",
              "    .dataframe tbody tr th:only-of-type {\n",
              "        vertical-align: middle;\n",
              "    }\n",
              "\n",
              "    .dataframe tbody tr th {\n",
              "        vertical-align: top;\n",
              "    }\n",
              "\n",
              "    .dataframe thead th {\n",
              "        text-align: right;\n",
              "    }\n",
              "</style>\n",
              "<table border=\"1\" class=\"dataframe\">\n",
              "  <thead>\n",
              "    <tr style=\"text-align: right;\">\n",
              "      <th></th>\n",
              "      <th>precision</th>\n",
              "      <th>recall</th>\n",
              "      <th>accuracy</th>\n",
              "      <th>f1_score</th>\n",
              "      <th>log_loss</th>\n",
              "      <th>roc_auc</th>\n",
              "    </tr>\n",
              "  </thead>\n",
              "  <tbody>\n",
              "    <tr>\n",
              "      <th>0</th>\n",
              "      <td>0.749412</td>\n",
              "      <td>0.680385</td>\n",
              "      <td>0.74754</td>\n",
              "      <td>0.713232</td>\n",
              "      <td>0.551035</td>\n",
              "      <td>0.778249</td>\n",
              "    </tr>\n",
              "  </tbody>\n",
              "</table>\n",
              "</div>"
            ],
            "text/plain": [
              "   precision    recall  accuracy  f1_score  log_loss   roc_auc\n",
              "0   0.749412  0.680385   0.74754  0.713232  0.551035  0.778249"
            ]
          },
          "metadata": {
            "tags": []
          },
          "execution_count": 37
        }
      ]
    },
    {
      "cell_type": "markdown",
      "metadata": {
        "id": "s7hde4Ujz-RR"
      },
      "source": [
        "### Step 6: Improving our model (3 points)\n",
        "\n",
        "In general, we can't just throw raw data into the model and expect it to work: in practice, you'll iterate on improving your features and re-training/re-evaluating your model. Let's try the following: add engineered features -> re-train model -> re-evaluate model.\n",
        "\n",
        "**a) Let's add an engineered feature! You suspect that there is a relationship between the distance between the start and end stations and whether it will be a \"quick\" ride. Let's add the distance between the start station and the end station as a feature. (1 point)**\n",
        "\n",
        "Extend your query from step 3 to also have a feature for the euclidean distance between the start and end station.\n",
        "\n",
        "You may find the following useful:\n",
        "- [Example](https://docs.google.com/presentation/d/10jDyG1TgwB30aNYUdhd9oe7SIQBKkmLMF0Gbq4OU5F0/edit#slide=id.g44a6f5d97e_1_1894) from Dr. Lakshmanan's invited talk\n",
        "- `ST_GeogPoint(longitude, latitude)` - creates geography point from longitude, latitude values\n",
        "- `ST_DISTANCE(start_pt, end_pt)` - computes distance between 2 geographic points (more [here](https://postgis.net/docs/PostGIS_Special_Functions_Index.html#PostGIS_GeographyFunctions))\n",
        "\n",
        "You are welcome, but not required, to experiment with other engineered features as well.\n",
        "\n",
        "Display the first 10 rows of the table returned by your query."
      ]
    },
    {
      "cell_type": "code",
      "metadata": {
        "id": "JbBZJCa18czi",
        "outputId": "39757539-33c5-4382-f8f1-44874c3fbc79",
        "colab": {
          "base_uri": "https://localhost:8080/",
          "height": 360
        }
      },
      "source": [
        "%%bigquery --project $project_id \n",
        "\n",
        "# YOUR QUERY HERE\n",
        "SELECT label, start_time, subscriber_type, bikeid, \n",
        "        start_status, end_status,\n",
        "        ST_DISTANCE(start_point, end_point) as euclidean, duration_minutes\n",
        "FROM (SELECT CASE WHEN (duration_minutes < 15) = TRUE THEN 1 ELSE 0 END AS label, \n",
        "        DATE(start_time) as start_time, \n",
        "        subscriber_type, bikeid,\n",
        "         (SELECT ST_GeogPoint(longitude, latitude)\n",
        "         FROM `bigquery-public-data.austin_bikeshare.bikeshare_stations` P\n",
        "         WHERE T.start_station_id = P.station_id)  as start_point,\n",
        "         (SELECT ST_GeogPoint(longitude, latitude) \n",
        "         FROM `bigquery-public-data.austin_bikeshare.bikeshare_stations` P\n",
        "         WHERE P.station_id = SAFE_CAST(T.end_station_id AS INT64)) as end_point ,\n",
        "         (SELECT status\n",
        "         FROM `bigquery-public-data.austin_bikeshare.bikeshare_stations` P\n",
        "         WHERE T.start_station_id = P.station_id) as start_status,\n",
        "         (SELECT status \n",
        "         FROM `bigquery-public-data.austin_bikeshare.bikeshare_stations` P\n",
        "         WHERE P.station_id = SAFE_CAST(T.end_station_id AS INT64)) as end_status, duration_minutes\n",
        "        \n",
        "FROM `bigquery-public-data.austin_bikeshare.bikeshare_trips` T) \n",
        "ORDER BY start_time \n",
        "LIMIT 10"
      ],
      "execution_count": null,
      "outputs": [
        {
          "output_type": "execute_result",
          "data": {
            "text/html": [
              "<div>\n",
              "<style scoped>\n",
              "    .dataframe tbody tr th:only-of-type {\n",
              "        vertical-align: middle;\n",
              "    }\n",
              "\n",
              "    .dataframe tbody tr th {\n",
              "        vertical-align: top;\n",
              "    }\n",
              "\n",
              "    .dataframe thead th {\n",
              "        text-align: right;\n",
              "    }\n",
              "</style>\n",
              "<table border=\"1\" class=\"dataframe\">\n",
              "  <thead>\n",
              "    <tr style=\"text-align: right;\">\n",
              "      <th></th>\n",
              "      <th>label</th>\n",
              "      <th>start_time</th>\n",
              "      <th>subscriber_type</th>\n",
              "      <th>bikeid</th>\n",
              "      <th>start_status</th>\n",
              "      <th>end_status</th>\n",
              "      <th>euclidean</th>\n",
              "      <th>duration_minutes</th>\n",
              "    </tr>\n",
              "  </thead>\n",
              "  <tbody>\n",
              "    <tr>\n",
              "      <th>0</th>\n",
              "      <td>0</td>\n",
              "      <td>2013-12-21</td>\n",
              "      <td>24-Hour Kiosk (Austin B-cycle)</td>\n",
              "      <td>348</td>\n",
              "      <td>active</td>\n",
              "      <td>active</td>\n",
              "      <td>736.636663</td>\n",
              "      <td>51</td>\n",
              "    </tr>\n",
              "    <tr>\n",
              "      <th>1</th>\n",
              "      <td>0</td>\n",
              "      <td>2013-12-21</td>\n",
              "      <td>24-Hour Kiosk (Austin B-cycle)</td>\n",
              "      <td>974</td>\n",
              "      <td>active</td>\n",
              "      <td>active</td>\n",
              "      <td>0.000000</td>\n",
              "      <td>33</td>\n",
              "    </tr>\n",
              "    <tr>\n",
              "      <th>2</th>\n",
              "      <td>0</td>\n",
              "      <td>2013-12-21</td>\n",
              "      <td>24-Hour Kiosk (Austin B-cycle)</td>\n",
              "      <td>40</td>\n",
              "      <td>active</td>\n",
              "      <td>active</td>\n",
              "      <td>0.000000</td>\n",
              "      <td>28</td>\n",
              "    </tr>\n",
              "    <tr>\n",
              "      <th>3</th>\n",
              "      <td>0</td>\n",
              "      <td>2013-12-21</td>\n",
              "      <td>24-Hour Kiosk (Austin B-cycle)</td>\n",
              "      <td>971</td>\n",
              "      <td>active</td>\n",
              "      <td>active</td>\n",
              "      <td>0.000000</td>\n",
              "      <td>83</td>\n",
              "    </tr>\n",
              "    <tr>\n",
              "      <th>4</th>\n",
              "      <td>1</td>\n",
              "      <td>2013-12-21</td>\n",
              "      <td>24-Hour Kiosk (Austin B-cycle)</td>\n",
              "      <td>116</td>\n",
              "      <td>active</td>\n",
              "      <td>active</td>\n",
              "      <td>973.037904</td>\n",
              "      <td>12</td>\n",
              "    </tr>\n",
              "    <tr>\n",
              "      <th>5</th>\n",
              "      <td>1</td>\n",
              "      <td>2013-12-21</td>\n",
              "      <td>Annual Membership (Austin B-cycle)</td>\n",
              "      <td>20</td>\n",
              "      <td>active</td>\n",
              "      <td>active</td>\n",
              "      <td>316.459855</td>\n",
              "      <td>3</td>\n",
              "    </tr>\n",
              "    <tr>\n",
              "      <th>6</th>\n",
              "      <td>1</td>\n",
              "      <td>2013-12-21</td>\n",
              "      <td>24-Hour Kiosk (Austin B-cycle)</td>\n",
              "      <td>252</td>\n",
              "      <td>active</td>\n",
              "      <td>active</td>\n",
              "      <td>0.000000</td>\n",
              "      <td>4</td>\n",
              "    </tr>\n",
              "    <tr>\n",
              "      <th>7</th>\n",
              "      <td>1</td>\n",
              "      <td>2013-12-21</td>\n",
              "      <td>24-Hour Kiosk (Austin B-cycle)</td>\n",
              "      <td>287</td>\n",
              "      <td>active</td>\n",
              "      <td>active</td>\n",
              "      <td>985.295768</td>\n",
              "      <td>5</td>\n",
              "    </tr>\n",
              "    <tr>\n",
              "      <th>8</th>\n",
              "      <td>0</td>\n",
              "      <td>2013-12-21</td>\n",
              "      <td>24-Hour Kiosk (Austin B-cycle)</td>\n",
              "      <td>282</td>\n",
              "      <td>active</td>\n",
              "      <td>active</td>\n",
              "      <td>2518.247892</td>\n",
              "      <td>24</td>\n",
              "    </tr>\n",
              "    <tr>\n",
              "      <th>9</th>\n",
              "      <td>1</td>\n",
              "      <td>2013-12-21</td>\n",
              "      <td>24-Hour Kiosk (Austin B-cycle)</td>\n",
              "      <td>287</td>\n",
              "      <td>active</td>\n",
              "      <td>closed</td>\n",
              "      <td>916.091765</td>\n",
              "      <td>12</td>\n",
              "    </tr>\n",
              "  </tbody>\n",
              "</table>\n",
              "</div>"
            ],
            "text/plain": [
              "   label  start_time  ...    euclidean duration_minutes\n",
              "0      0  2013-12-21  ...   736.636663               51\n",
              "1      0  2013-12-21  ...     0.000000               33\n",
              "2      0  2013-12-21  ...     0.000000               28\n",
              "3      0  2013-12-21  ...     0.000000               83\n",
              "4      1  2013-12-21  ...   973.037904               12\n",
              "5      1  2013-12-21  ...   316.459855                3\n",
              "6      1  2013-12-21  ...     0.000000                4\n",
              "7      1  2013-12-21  ...   985.295768                5\n",
              "8      0  2013-12-21  ...  2518.247892               24\n",
              "9      1  2013-12-21  ...   916.091765               12\n",
              "\n",
              "[10 rows x 8 columns]"
            ]
          },
          "metadata": {
            "tags": []
          },
          "execution_count": 38
        }
      ]
    },
    {
      "cell_type": "markdown",
      "metadata": {
        "id": "ABZT9fAT5Fy3"
      },
      "source": [
        "**b) Let's train our model again (using the same training set as before) with the added features. You can replace the existing one, or create a new one with a different name. (1 point)**\n",
        "\n"
      ]
    },
    {
      "cell_type": "markdown",
      "metadata": {
        "id": "kYZNHNqz4p0N"
      },
      "source": [
        "**Note**: it may take a few minutes to run the query. Also, you may again get the error `Table has no schema: call 'client.get_table()'`. The model is still trained successfully though. You may ignore this, and can click the (X) in the top left of the output to clear the error message."
      ]
    },
    {
      "cell_type": "code",
      "metadata": {
        "id": "kgUXMHqYEHeT"
      },
      "source": [
        "%%bigquery --project $project_id\n",
        "\n",
        "# YOUR QUERY HERE\n",
        "\n",
        "CREATE OR REPLACE MODEL `bqml_bikeshare.bikeshare_model_v2` -- we'll call our model 'bikeshare_model_v2'\n",
        "OPTIONS (model_type='logistic_reg') AS\n",
        "SELECT\n",
        "  label AS label,  # label is 0, or 1\n",
        "  IFNULL(subscriber_type, \"\") AS feature1,\n",
        "  IFNULL(bikeid, \"\") AS feature2,\n",
        "  IFNULL(start_status, \"\") AS feature3,\n",
        "  IFNULL(end_status, \"\") AS feature4,\n",
        "  IFNULL(euclidean, 0) AS feature5\n",
        "FROM\n",
        "  `cs145-project3-294103.bqml_bikeshare.bikeshare_ride_v2`\n",
        "WHERE\n",
        "  start_time < '2017-01-01' AND duration_minutes > 0"
      ],
      "execution_count": null,
      "outputs": []
    },
    {
      "cell_type": "markdown",
      "metadata": {
        "id": "RkURhcloIBoQ"
      },
      "source": [
        "Let's get our training stats again:"
      ]
    },
    {
      "cell_type": "code",
      "metadata": {
        "id": "CQzLy39KIFEc",
        "outputId": "52eac275-0f49-4918-9e14-0b734306f968",
        "colab": {
          "base_uri": "https://localhost:8080/",
          "height": 225
        }
      },
      "source": [
        "%%bigquery --project $project_id\n",
        "\n",
        "# Run cell to view training stats\n",
        "\n",
        "SELECT\n",
        "  *\n",
        "FROM\n",
        "  ML.TRAINING_INFO(MODEL `bqml_bikeshare.bikeshare_model_v2`)"
      ],
      "execution_count": null,
      "outputs": [
        {
          "output_type": "execute_result",
          "data": {
            "text/html": [
              "<div>\n",
              "<style scoped>\n",
              "    .dataframe tbody tr th:only-of-type {\n",
              "        vertical-align: middle;\n",
              "    }\n",
              "\n",
              "    .dataframe tbody tr th {\n",
              "        vertical-align: top;\n",
              "    }\n",
              "\n",
              "    .dataframe thead th {\n",
              "        text-align: right;\n",
              "    }\n",
              "</style>\n",
              "<table border=\"1\" class=\"dataframe\">\n",
              "  <thead>\n",
              "    <tr style=\"text-align: right;\">\n",
              "      <th></th>\n",
              "      <th>training_run</th>\n",
              "      <th>iteration</th>\n",
              "      <th>loss</th>\n",
              "      <th>eval_loss</th>\n",
              "      <th>learning_rate</th>\n",
              "      <th>duration_ms</th>\n",
              "    </tr>\n",
              "  </thead>\n",
              "  <tbody>\n",
              "    <tr>\n",
              "      <th>0</th>\n",
              "      <td>0</td>\n",
              "      <td>5</td>\n",
              "      <td>0.548334</td>\n",
              "      <td>0.555344</td>\n",
              "      <td>6.4</td>\n",
              "      <td>10474</td>\n",
              "    </tr>\n",
              "    <tr>\n",
              "      <th>1</th>\n",
              "      <td>0</td>\n",
              "      <td>4</td>\n",
              "      <td>0.555012</td>\n",
              "      <td>0.560649</td>\n",
              "      <td>3.2</td>\n",
              "      <td>10325</td>\n",
              "    </tr>\n",
              "    <tr>\n",
              "      <th>2</th>\n",
              "      <td>0</td>\n",
              "      <td>3</td>\n",
              "      <td>0.582505</td>\n",
              "      <td>0.586162</td>\n",
              "      <td>1.6</td>\n",
              "      <td>11544</td>\n",
              "    </tr>\n",
              "    <tr>\n",
              "      <th>3</th>\n",
              "      <td>0</td>\n",
              "      <td>2</td>\n",
              "      <td>0.622871</td>\n",
              "      <td>0.624862</td>\n",
              "      <td>0.8</td>\n",
              "      <td>12069</td>\n",
              "    </tr>\n",
              "    <tr>\n",
              "      <th>4</th>\n",
              "      <td>0</td>\n",
              "      <td>1</td>\n",
              "      <td>0.657542</td>\n",
              "      <td>0.658465</td>\n",
              "      <td>0.4</td>\n",
              "      <td>11200</td>\n",
              "    </tr>\n",
              "    <tr>\n",
              "      <th>5</th>\n",
              "      <td>0</td>\n",
              "      <td>0</td>\n",
              "      <td>0.680205</td>\n",
              "      <td>0.680525</td>\n",
              "      <td>0.2</td>\n",
              "      <td>7739</td>\n",
              "    </tr>\n",
              "  </tbody>\n",
              "</table>\n",
              "</div>"
            ],
            "text/plain": [
              "   training_run  iteration      loss  eval_loss  learning_rate  duration_ms\n",
              "0             0          5  0.548334   0.555344            6.4        10474\n",
              "1             0          4  0.555012   0.560649            3.2        10325\n",
              "2             0          3  0.582505   0.586162            1.6        11544\n",
              "3             0          2  0.622871   0.624862            0.8        12069\n",
              "4             0          1  0.657542   0.658465            0.4        11200\n",
              "5             0          0  0.680205   0.680525            0.2         7739"
            ]
          },
          "metadata": {
            "tags": []
          },
          "execution_count": 39
        }
      ]
    },
    {
      "cell_type": "markdown",
      "metadata": {
        "id": "1G_Ivatar12p"
      },
      "source": [
        "You'll should hopefully find that the loss is a bit lower (better) than before, on both on the training data and on BigQuery's automatic evauation set (it withholds some data you passed in as training data for reporting eval stats)."
      ]
    },
    {
      "cell_type": "markdown",
      "metadata": {
        "id": "uaf2CD9I5dvN"
      },
      "source": [
        "**c) Now let's evaluate our re-trained model on our evaluation set. You can use a similar evaluation query from step 5, but with your updated features (note: you may need to change the model name in the query if your new model has a different name). (1 point)**"
      ]
    },
    {
      "cell_type": "code",
      "metadata": {
        "id": "kOxKtiwKbp3Y",
        "outputId": "c43dcb2f-34c0-4511-a68d-357cf7179787",
        "colab": {
          "base_uri": "https://localhost:8080/",
          "height": 77
        }
      },
      "source": [
        "%%bigquery --project $project_id\n",
        "\n",
        "# YOUR QUERY HERE\n",
        "\n",
        "SELECT\n",
        "  *\n",
        "FROM\n",
        "  ML.EVALUATE(MODEL `bqml_bikeshare.bikeshare_model_v2`, (\n",
        "SELECT\n",
        "  label AS label,  # label is 0, or 1\n",
        "  IFNULL(subscriber_type, \"\") AS feature1,\n",
        "  IFNULL(bikeid, \"\") AS feature2,\n",
        "  IFNULL(start_status, \"\") AS feature3,\n",
        "  IFNULL(end_status, \"\") AS feature4,\n",
        "  IFNULL(euclidean, 0) AS feature5\n",
        "FROM\n",
        "  `cs145-project3-294103.bqml_bikeshare.bikeshare_ride_v2`\n",
        "WHERE\n",
        "  (start_time BETWEEN '2017-01-01' AND '2017-06-01') AND duration_minutes > 0))"
      ],
      "execution_count": null,
      "outputs": [
        {
          "output_type": "execute_result",
          "data": {
            "text/html": [
              "<div>\n",
              "<style scoped>\n",
              "    .dataframe tbody tr th:only-of-type {\n",
              "        vertical-align: middle;\n",
              "    }\n",
              "\n",
              "    .dataframe tbody tr th {\n",
              "        vertical-align: top;\n",
              "    }\n",
              "\n",
              "    .dataframe thead th {\n",
              "        text-align: right;\n",
              "    }\n",
              "</style>\n",
              "<table border=\"1\" class=\"dataframe\">\n",
              "  <thead>\n",
              "    <tr style=\"text-align: right;\">\n",
              "      <th></th>\n",
              "      <th>precision</th>\n",
              "      <th>recall</th>\n",
              "      <th>accuracy</th>\n",
              "      <th>f1_score</th>\n",
              "      <th>log_loss</th>\n",
              "      <th>roc_auc</th>\n",
              "    </tr>\n",
              "  </thead>\n",
              "  <tbody>\n",
              "    <tr>\n",
              "      <th>0</th>\n",
              "      <td>0.776626</td>\n",
              "      <td>0.70885</td>\n",
              "      <td>0.771576</td>\n",
              "      <td>0.741192</td>\n",
              "      <td>0.523293</td>\n",
              "      <td>0.812202</td>\n",
              "    </tr>\n",
              "  </tbody>\n",
              "</table>\n",
              "</div>"
            ],
            "text/plain": [
              "   precision   recall  accuracy  f1_score  log_loss   roc_auc\n",
              "0   0.776626  0.70885  0.771576  0.741192  0.523293  0.812202"
            ]
          },
          "metadata": {
            "tags": []
          },
          "execution_count": 40
        }
      ]
    },
    {
      "cell_type": "markdown",
      "metadata": {
        "id": "bz512wScoVOs"
      },
      "source": [
        "### Step 7: Evaluate final model on test set (1 point)\n",
        "\n",
        "Once you're done training your model (in practice, you'll likely iterate on updating your model, retraining on the training set, and re-evaluating on the evaluation set several times), you'll evaluate your final model on a test set. The test set consists of examples that have not been used at all before,  neither during training nor during evaluation.\n",
        "\n",
        "Again, the test set should **only be used once at the end of your entire training process**, to see how your model does on real data. You should only run the cell below once you are finished modifying your features.\n",
        "\n",
        "Recall that for our test set, we're using the 5 months after our evaluation set (rides with start_time between  '2017-06-01' and  '2017-11-01', with duration time > 0).\n",
        "\n",
        "**Evaluate your model once on this test set. The query is almost identical to the previous one, except now you use the test set.**"
      ]
    },
    {
      "cell_type": "code",
      "metadata": {
        "id": "Ubabj72ptCwS",
        "outputId": "ec7b4c3c-3fe9-4977-9ef8-4ca15890e2f6",
        "colab": {
          "base_uri": "https://localhost:8080/",
          "height": 402
        }
      },
      "source": [
        "%%bigquery --project $project_id\n",
        "\n",
        "# YOUR QUERY HERE\n",
        "\n",
        "SELECT\n",
        "  label,\n",
        "  predicted_label\n",
        "FROM\n",
        "  ML.PREDICT(MODEL `bqml_bikeshare.bikeshare_model_v2`, ( \n",
        "SELECT\n",
        "  label AS label,  # label is 0, or 1\n",
        "  IFNULL(subscriber_type, \"\") AS feature1,\n",
        "  IFNULL(bikeid, \"\") AS feature2,\n",
        "  IFNULL(start_status, \"\") AS feature3,\n",
        "  IFNULL(end_status, \"\") AS feature4,\n",
        "  IFNULL(euclidean, 0) AS feature5\n",
        "FROM\n",
        "  `cs145-project3-294103.bqml_bikeshare.bikeshare_ride_v2`\n",
        "WHERE\n",
        "  (start_time BETWEEN '2017-06-01' AND '2017-11-01') AND duration_minutes > 0))"
      ],
      "execution_count": null,
      "outputs": [
        {
          "output_type": "execute_result",
          "data": {
            "text/html": [
              "<div>\n",
              "<style scoped>\n",
              "    .dataframe tbody tr th:only-of-type {\n",
              "        vertical-align: middle;\n",
              "    }\n",
              "\n",
              "    .dataframe tbody tr th {\n",
              "        vertical-align: top;\n",
              "    }\n",
              "\n",
              "    .dataframe thead th {\n",
              "        text-align: right;\n",
              "    }\n",
              "</style>\n",
              "<table border=\"1\" class=\"dataframe\">\n",
              "  <thead>\n",
              "    <tr style=\"text-align: right;\">\n",
              "      <th></th>\n",
              "      <th>label</th>\n",
              "      <th>predicted_label</th>\n",
              "    </tr>\n",
              "  </thead>\n",
              "  <tbody>\n",
              "    <tr>\n",
              "      <th>0</th>\n",
              "      <td>0</td>\n",
              "      <td>0</td>\n",
              "    </tr>\n",
              "    <tr>\n",
              "      <th>1</th>\n",
              "      <td>0</td>\n",
              "      <td>0</td>\n",
              "    </tr>\n",
              "    <tr>\n",
              "      <th>2</th>\n",
              "      <td>0</td>\n",
              "      <td>0</td>\n",
              "    </tr>\n",
              "    <tr>\n",
              "      <th>3</th>\n",
              "      <td>0</td>\n",
              "      <td>0</td>\n",
              "    </tr>\n",
              "    <tr>\n",
              "      <th>4</th>\n",
              "      <td>0</td>\n",
              "      <td>0</td>\n",
              "    </tr>\n",
              "    <tr>\n",
              "      <th>...</th>\n",
              "      <td>...</td>\n",
              "      <td>...</td>\n",
              "    </tr>\n",
              "    <tr>\n",
              "      <th>76413</th>\n",
              "      <td>1</td>\n",
              "      <td>1</td>\n",
              "    </tr>\n",
              "    <tr>\n",
              "      <th>76414</th>\n",
              "      <td>1</td>\n",
              "      <td>1</td>\n",
              "    </tr>\n",
              "    <tr>\n",
              "      <th>76415</th>\n",
              "      <td>1</td>\n",
              "      <td>1</td>\n",
              "    </tr>\n",
              "    <tr>\n",
              "      <th>76416</th>\n",
              "      <td>1</td>\n",
              "      <td>1</td>\n",
              "    </tr>\n",
              "    <tr>\n",
              "      <th>76417</th>\n",
              "      <td>1</td>\n",
              "      <td>1</td>\n",
              "    </tr>\n",
              "  </tbody>\n",
              "</table>\n",
              "<p>76418 rows × 2 columns</p>\n",
              "</div>"
            ],
            "text/plain": [
              "       label  predicted_label\n",
              "0          0                0\n",
              "1          0                0\n",
              "2          0                0\n",
              "3          0                0\n",
              "4          0                0\n",
              "...      ...              ...\n",
              "76413      1                1\n",
              "76414      1                1\n",
              "76415      1                1\n",
              "76416      1                1\n",
              "76417      1                1\n",
              "\n",
              "[76418 rows x 2 columns]"
            ]
          },
          "metadata": {
            "tags": []
          },
          "execution_count": 41
        }
      ]
    },
    {
      "cell_type": "markdown",
      "metadata": {
        "id": "fvBaQkC25iL1"
      },
      "source": [
        "### Step 8: Use the trained model to predict (1 point)\n",
        "\n",
        "Once you've trained your model, you can use it to make predictions! Let's try to use it to fill in some of the missing data.\n",
        "\n",
        "**Now, let's go ahead and predict on rides that had a duration time of 0 minutes, but had different start/end stations. Does our model think these were quick rides?**\n",
        "\n",
        "Notice that these samples were never used during training/evaluation/testing, since we filtered out rides with a duration of 0. \n",
        "\n",
        "Display the features used for prediction and the predicted label for 10 examples. The predicted label will be called  `predicted_label.`"
      ]
    },
    {
      "cell_type": "markdown",
      "metadata": {
        "id": "K_VN5--ud6zO"
      },
      "source": [
        "#### **Let's create a table \"bikeshare_ride_test\" with rides that had a duration time of 0 minutes, but had different start/end stations.**"
      ]
    },
    {
      "cell_type": "code",
      "metadata": {
        "id": "OSdyVdhMdyll",
        "outputId": "0ffce29c-da5c-4e8f-b380-bae43e67455f",
        "colab": {
          "base_uri": "https://localhost:8080/",
          "height": 343
        }
      },
      "source": [
        "%%bigquery --project $project_id\n",
        "\n",
        "SELECT start_time, subscriber_type, bikeid, \n",
        "        start_status, end_status,\n",
        "        ST_DISTANCE(start_point, end_point) as euclidean\n",
        "FROM (SELECT \n",
        "        DATE(start_time) as start_time, \n",
        "        subscriber_type, bikeid,\n",
        "         (SELECT ST_GeogPoint(longitude, latitude)\n",
        "         FROM `bigquery-public-data.austin_bikeshare.bikeshare_stations` P\n",
        "         WHERE T.start_station_id = P.station_id)  as start_point,\n",
        "         (SELECT ST_GeogPoint(longitude, latitude) \n",
        "         FROM `bigquery-public-data.austin_bikeshare.bikeshare_stations` P\n",
        "         WHERE P.station_id = SAFE_CAST(T.end_station_id AS INT64)) as end_point ,\n",
        "         (SELECT status\n",
        "         FROM `bigquery-public-data.austin_bikeshare.bikeshare_stations` P\n",
        "         WHERE T.start_station_id = P.station_id) as start_status,\n",
        "         (SELECT status \n",
        "         FROM `bigquery-public-data.austin_bikeshare.bikeshare_stations` P\n",
        "         WHERE P.station_id = SAFE_CAST(T.end_station_id AS INT64)) as end_status\n",
        "        \n",
        "FROM `bigquery-public-data.austin_bikeshare.bikeshare_trips` T\n",
        "WHERE start_station_id != CAST(end_station_id AS INT64) AND duration_minutes = 0) \n",
        "ORDER BY start_time\n",
        "LIMIT 10"
      ],
      "execution_count": null,
      "outputs": [
        {
          "output_type": "execute_result",
          "data": {
            "text/html": [
              "<div>\n",
              "<style scoped>\n",
              "    .dataframe tbody tr th:only-of-type {\n",
              "        vertical-align: middle;\n",
              "    }\n",
              "\n",
              "    .dataframe tbody tr th {\n",
              "        vertical-align: top;\n",
              "    }\n",
              "\n",
              "    .dataframe thead th {\n",
              "        text-align: right;\n",
              "    }\n",
              "</style>\n",
              "<table border=\"1\" class=\"dataframe\">\n",
              "  <thead>\n",
              "    <tr style=\"text-align: right;\">\n",
              "      <th></th>\n",
              "      <th>start_time</th>\n",
              "      <th>subscriber_type</th>\n",
              "      <th>bikeid</th>\n",
              "      <th>start_status</th>\n",
              "      <th>end_status</th>\n",
              "      <th>euclidean</th>\n",
              "    </tr>\n",
              "  </thead>\n",
              "  <tbody>\n",
              "    <tr>\n",
              "      <th>0</th>\n",
              "      <td>2013-12-22</td>\n",
              "      <td>Founding Member (Austin B-cycle)</td>\n",
              "      <td>230</td>\n",
              "      <td>active</td>\n",
              "      <td>active</td>\n",
              "      <td>2320.184534</td>\n",
              "    </tr>\n",
              "    <tr>\n",
              "      <th>1</th>\n",
              "      <td>2013-12-22</td>\n",
              "      <td>24-Hour Kiosk (Austin B-cycle)</td>\n",
              "      <td>283</td>\n",
              "      <td>active</td>\n",
              "      <td>active</td>\n",
              "      <td>985.295768</td>\n",
              "    </tr>\n",
              "    <tr>\n",
              "      <th>2</th>\n",
              "      <td>2013-12-27</td>\n",
              "      <td>24-Hour Kiosk (Austin B-cycle)</td>\n",
              "      <td>974</td>\n",
              "      <td>active</td>\n",
              "      <td>active</td>\n",
              "      <td>2518.247892</td>\n",
              "    </tr>\n",
              "    <tr>\n",
              "      <th>3</th>\n",
              "      <td>2014-01-01</td>\n",
              "      <td>24-Hour Kiosk (Austin B-cycle)</td>\n",
              "      <td>646</td>\n",
              "      <td>active</td>\n",
              "      <td>active</td>\n",
              "      <td>827.123454</td>\n",
              "    </tr>\n",
              "    <tr>\n",
              "      <th>4</th>\n",
              "      <td>2014-01-01</td>\n",
              "      <td>24-Hour Kiosk (Austin B-cycle)</td>\n",
              "      <td>49</td>\n",
              "      <td>active</td>\n",
              "      <td>active</td>\n",
              "      <td>1100.785887</td>\n",
              "    </tr>\n",
              "    <tr>\n",
              "      <th>5</th>\n",
              "      <td>2014-01-11</td>\n",
              "      <td>24-Hour Kiosk (Austin B-cycle)</td>\n",
              "      <td>152</td>\n",
              "      <td>active</td>\n",
              "      <td>active</td>\n",
              "      <td>1121.219726</td>\n",
              "    </tr>\n",
              "    <tr>\n",
              "      <th>6</th>\n",
              "      <td>2014-01-11</td>\n",
              "      <td>24-Hour Kiosk (Austin B-cycle)</td>\n",
              "      <td>275</td>\n",
              "      <td>active</td>\n",
              "      <td>active</td>\n",
              "      <td>1290.032315</td>\n",
              "    </tr>\n",
              "    <tr>\n",
              "      <th>7</th>\n",
              "      <td>2014-01-19</td>\n",
              "      <td>7-Day Membership (Austin B-cycle)</td>\n",
              "      <td>177</td>\n",
              "      <td>active</td>\n",
              "      <td>active</td>\n",
              "      <td>426.638998</td>\n",
              "    </tr>\n",
              "    <tr>\n",
              "      <th>8</th>\n",
              "      <td>2014-01-19</td>\n",
              "      <td>24-Hour Kiosk (Austin B-cycle)</td>\n",
              "      <td>16</td>\n",
              "      <td>active</td>\n",
              "      <td>active</td>\n",
              "      <td>1155.899193</td>\n",
              "    </tr>\n",
              "    <tr>\n",
              "      <th>9</th>\n",
              "      <td>2014-01-19</td>\n",
              "      <td>Annual Membership (Austin B-cycle)</td>\n",
              "      <td>925</td>\n",
              "      <td>active</td>\n",
              "      <td>closed</td>\n",
              "      <td>1836.361287</td>\n",
              "    </tr>\n",
              "  </tbody>\n",
              "</table>\n",
              "</div>"
            ],
            "text/plain": [
              "   start_time                     subscriber_type  ... end_status    euclidean\n",
              "0  2013-12-22    Founding Member (Austin B-cycle)  ...     active  2320.184534\n",
              "1  2013-12-22      24-Hour Kiosk (Austin B-cycle)  ...     active   985.295768\n",
              "2  2013-12-27      24-Hour Kiosk (Austin B-cycle)  ...     active  2518.247892\n",
              "3  2014-01-01      24-Hour Kiosk (Austin B-cycle)  ...     active   827.123454\n",
              "4  2014-01-01      24-Hour Kiosk (Austin B-cycle)  ...     active  1100.785887\n",
              "5  2014-01-11      24-Hour Kiosk (Austin B-cycle)  ...     active  1121.219726\n",
              "6  2014-01-11      24-Hour Kiosk (Austin B-cycle)  ...     active  1290.032315\n",
              "7  2014-01-19   7-Day Membership (Austin B-cycle)  ...     active   426.638998\n",
              "8  2014-01-19      24-Hour Kiosk (Austin B-cycle)  ...     active  1155.899193\n",
              "9  2014-01-19  Annual Membership (Austin B-cycle)  ...     closed  1836.361287\n",
              "\n",
              "[10 rows x 6 columns]"
            ]
          },
          "metadata": {
            "tags": []
          },
          "execution_count": 42
        }
      ]
    },
    {
      "cell_type": "markdown",
      "metadata": {
        "id": "GQ5sGJWlf38R"
      },
      "source": [
        "**10 examples of predicted labels and features.**"
      ]
    },
    {
      "cell_type": "code",
      "metadata": {
        "id": "kY3B-bGdSu-i",
        "outputId": "27c097aa-8ae1-43c3-bbed-0d727b21c5f7",
        "colab": {
          "base_uri": "https://localhost:8080/",
          "height": 343
        }
      },
      "source": [
        "%%bigquery --project $project_id\n",
        "\n",
        "# YOUR QUERY HERE\n",
        "\n",
        "\n",
        "SELECT\n",
        "  predicted_label, feature1 AS subscriber_type, feature2 AS bikeid, feature3 AS start_status, \n",
        "  feature4 AS end_status, feature5 AS euclidean\n",
        "FROM\n",
        "  ML.PREDICT(MODEL `bqml_bikeshare.bikeshare_model_v2`, ( \n",
        "SELECT\n",
        "  IFNULL(subscriber_type, \"\") AS feature1,\n",
        "  IFNULL(bikeid, \"\") AS feature2,\n",
        "  IFNULL(start_status, \"\") AS feature3,\n",
        "  IFNULL(end_status, \"\") AS feature4,\n",
        "  IFNULL(euclidean, 0) AS feature5\n",
        "FROM\n",
        "  `cs145-project3-294103.bqml_bikeshare.bikeshare_ride_test`))\n",
        "WHERE RAND() < 0.01 \n",
        "limit 10"
      ],
      "execution_count": null,
      "outputs": [
        {
          "output_type": "execute_result",
          "data": {
            "text/html": [
              "<div>\n",
              "<style scoped>\n",
              "    .dataframe tbody tr th:only-of-type {\n",
              "        vertical-align: middle;\n",
              "    }\n",
              "\n",
              "    .dataframe tbody tr th {\n",
              "        vertical-align: top;\n",
              "    }\n",
              "\n",
              "    .dataframe thead th {\n",
              "        text-align: right;\n",
              "    }\n",
              "</style>\n",
              "<table border=\"1\" class=\"dataframe\">\n",
              "  <thead>\n",
              "    <tr style=\"text-align: right;\">\n",
              "      <th></th>\n",
              "      <th>predicted_label</th>\n",
              "      <th>subscriber_type</th>\n",
              "      <th>bikeid</th>\n",
              "      <th>start_status</th>\n",
              "      <th>end_status</th>\n",
              "      <th>euclidean</th>\n",
              "    </tr>\n",
              "  </thead>\n",
              "  <tbody>\n",
              "    <tr>\n",
              "      <th>0</th>\n",
              "      <td>1</td>\n",
              "      <td>7-Day</td>\n",
              "      <td>933</td>\n",
              "      <td>active</td>\n",
              "      <td>active</td>\n",
              "      <td>744.339878</td>\n",
              "    </tr>\n",
              "    <tr>\n",
              "      <th>1</th>\n",
              "      <td>0</td>\n",
              "      <td>Walk Up</td>\n",
              "      <td>315</td>\n",
              "      <td>active</td>\n",
              "      <td>active</td>\n",
              "      <td>1837.038894</td>\n",
              "    </tr>\n",
              "    <tr>\n",
              "      <th>2</th>\n",
              "      <td>0</td>\n",
              "      <td>Walk Up</td>\n",
              "      <td>214</td>\n",
              "      <td>active</td>\n",
              "      <td>active</td>\n",
              "      <td>3040.807105</td>\n",
              "    </tr>\n",
              "    <tr>\n",
              "      <th>3</th>\n",
              "      <td>0</td>\n",
              "      <td>Walk Up</td>\n",
              "      <td>975</td>\n",
              "      <td>active</td>\n",
              "      <td>closed</td>\n",
              "      <td>1167.202313</td>\n",
              "    </tr>\n",
              "    <tr>\n",
              "      <th>4</th>\n",
              "      <td>0</td>\n",
              "      <td>Walk Up</td>\n",
              "      <td>288</td>\n",
              "      <td>active</td>\n",
              "      <td>closed</td>\n",
              "      <td>2230.889629</td>\n",
              "    </tr>\n",
              "    <tr>\n",
              "      <th>5</th>\n",
              "      <td>0</td>\n",
              "      <td>Walk Up</td>\n",
              "      <td>958</td>\n",
              "      <td>active</td>\n",
              "      <td>active</td>\n",
              "      <td>2200.287407</td>\n",
              "    </tr>\n",
              "    <tr>\n",
              "      <th>6</th>\n",
              "      <td>0</td>\n",
              "      <td>Walk Up</td>\n",
              "      <td>334</td>\n",
              "      <td>active</td>\n",
              "      <td>closed</td>\n",
              "      <td>3130.829082</td>\n",
              "    </tr>\n",
              "    <tr>\n",
              "      <th>7</th>\n",
              "      <td>0</td>\n",
              "      <td>Walk Up</td>\n",
              "      <td>263</td>\n",
              "      <td>active</td>\n",
              "      <td>closed</td>\n",
              "      <td>2022.945209</td>\n",
              "    </tr>\n",
              "    <tr>\n",
              "      <th>8</th>\n",
              "      <td>0</td>\n",
              "      <td>Walk Up</td>\n",
              "      <td>897</td>\n",
              "      <td>active</td>\n",
              "      <td>active</td>\n",
              "      <td>2727.042807</td>\n",
              "    </tr>\n",
              "    <tr>\n",
              "      <th>9</th>\n",
              "      <td>1</td>\n",
              "      <td>Local365</td>\n",
              "      <td>371</td>\n",
              "      <td>active</td>\n",
              "      <td>active</td>\n",
              "      <td>827.123454</td>\n",
              "    </tr>\n",
              "  </tbody>\n",
              "</table>\n",
              "</div>"
            ],
            "text/plain": [
              "   predicted_label subscriber_type bikeid start_status end_status    euclidean\n",
              "0                1           7-Day    933       active     active   744.339878\n",
              "1                0         Walk Up    315       active     active  1837.038894\n",
              "2                0         Walk Up    214       active     active  3040.807105\n",
              "3                0         Walk Up    975       active     closed  1167.202313\n",
              "4                0         Walk Up    288       active     closed  2230.889629\n",
              "5                0         Walk Up    958       active     active  2200.287407\n",
              "6                0         Walk Up    334       active     closed  3130.829082\n",
              "7                0         Walk Up    263       active     closed  2022.945209\n",
              "8                0         Walk Up    897       active     active  2727.042807\n",
              "9                1        Local365    371       active     active   827.123454"
            ]
          },
          "metadata": {
            "tags": []
          },
          "execution_count": 5
        }
      ]
    },
    {
      "cell_type": "markdown",
      "metadata": {
        "id": "fkytglPauSSu"
      },
      "source": [
        "Our model predicts that bike rides with different start/end stations tend to have non-quick rides."
      ]
    }
  ]
}