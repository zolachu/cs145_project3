{
  "nbformat": 4,
  "nbformat_minor": 0,
  "metadata": {
    "colab": {
      "name": "final_project3_template.ipynb",
      "provenance": [],
      "collapsed_sections": [],
      "include_colab_link": true
    },
    "kernelspec": {
      "name": "python3",
      "display_name": "Python 3"
    }
  },
  "cells": [
    {
      "cell_type": "markdown",
      "metadata": {
        "id": "view-in-github",
        "colab_type": "text"
      },
      "source": [
        "<a href=\"https://colab.research.google.com/github/zolachu/cs145_project3/blob/main/final_project3_template.ipynb\" target=\"_parent\"><img src=\"https://colab.research.google.com/assets/colab-badge.svg\" alt=\"Open In Colab\"/></a>"
      ]
    },
    {
      "cell_type": "markdown",
      "metadata": {
        "id": "U5JUMgc_gbHp"
      },
      "source": [
        "# CS145: Project 3 | StackOverFlow Users table exploration"
      ]
    },
    {
      "cell_type": "markdown",
      "metadata": {
        "id": "gMNQWFvSgepX"
      },
      "source": [
        "## Project Overview"
      ]
    },
    {
      "cell_type": "markdown",
      "metadata": {
        "id": "NDCmyoodo1px"
      },
      "source": [
        "------ \n",
        "\n",
        "We’ll look at StackOverFlow as our exploration dataset, specifically focus on the `users` table to find relations between its columns. In addition, we’ll train, evaluate some features of this table and test the resulting model on a test dataset extracted from the `users` table. \n",
        "\n",
        "-----"
      ]
    },
    {
      "cell_type": "code",
      "metadata": {
        "id": "iTYZZK-lhCV9"
      },
      "source": [
        "# Run this cell to authenticate yourself to BigQuery\n",
        "from google.colab import auth\n",
        "auth.authenticate_user()\n",
        "project_id = \"cs145-project3-294103\""
      ],
      "execution_count": 1,
      "outputs": []
    },
    {
      "cell_type": "code",
      "metadata": {
        "id": "uIY7-6-thFc-"
      },
      "source": [
        "# Initialize BiqQuery client\n",
        "from google.cloud import bigquery\n",
        "client = bigquery.Client(project=project_id)"
      ],
      "execution_count": 2,
      "outputs": []
    },
    {
      "cell_type": "code",
      "metadata": {
        "id": "CMlA4qtYSnH8"
      },
      "source": [
        "# Run this cell to create a dataset to store your model, or create in the UI\n",
        "\n",
        "model_dataset_name = 'stackoverflow'\n",
        "\n",
        "dataset = bigquery.Dataset(client.dataset(model_dataset_name))\n",
        "dataset.location = 'US'\n",
        "client.create_dataset(dataset)"
      ],
      "execution_count": null,
      "outputs": []
    },
    {
      "cell_type": "markdown",
      "metadata": {
        "id": "r_GvgTCcgv6N"
      },
      "source": [
        "## Analysis of Dataset\n",
        "\n"
      ]
    },
    {
      "cell_type": "markdown",
      "metadata": {
        "id": "OsMMIDrjg_YG"
      },
      "source": [
        "---\n",
        "\n",
        "In this project, I will only use StackOverFlow data taken from year 2010 (the users who created their account in year 2010). The `users` table comprises 2.023 GB of data. Our goal will be to predict the reputation of users. Low reputation is linked to low up_votes, more down_votes, and low views. \n",
        "\n",
        "---"
      ]
    },
    {
      "cell_type": "code",
      "metadata": {
        "id": "Na0ojdoLfclM",
        "outputId": "04cc04dd-89e3-4d36-cbeb-9cca4f909185",
        "colab": {
          "base_uri": "https://localhost:8080/",
          "height": 77
        }
      },
      "source": [
        "%%bigquery --project $project_id\n",
        "\n",
        "select sum(size_bytes)/(1024*1024*1024) as size_GB\n",
        "from `bigquery-public-data.stackoverflow.`.__TABLES__\n",
        "where table_id = 'users'"
      ],
      "execution_count": 129,
      "outputs": [
        {
          "output_type": "execute_result",
          "data": {
            "text/html": [
              "<div>\n",
              "<style scoped>\n",
              "    .dataframe tbody tr th:only-of-type {\n",
              "        vertical-align: middle;\n",
              "    }\n",
              "\n",
              "    .dataframe tbody tr th {\n",
              "        vertical-align: top;\n",
              "    }\n",
              "\n",
              "    .dataframe thead th {\n",
              "        text-align: right;\n",
              "    }\n",
              "</style>\n",
              "<table border=\"1\" class=\"dataframe\">\n",
              "  <thead>\n",
              "    <tr style=\"text-align: right;\">\n",
              "      <th></th>\n",
              "      <th>size_GB</th>\n",
              "    </tr>\n",
              "  </thead>\n",
              "  <tbody>\n",
              "    <tr>\n",
              "      <th>0</th>\n",
              "      <td>2.023294</td>\n",
              "    </tr>\n",
              "  </tbody>\n",
              "</table>\n",
              "</div>"
            ],
            "text/plain": [
              "    size_GB\n",
              "0  2.023294"
            ]
          },
          "metadata": {
            "tags": []
          },
          "execution_count": 129
        }
      ]
    },
    {
      "cell_type": "markdown",
      "metadata": {
        "id": "DYjMm7ofgZWh"
      },
      "source": [
        "------\n",
        "\n",
        "We will use the following columns to make our model:\n",
        "\n",
        "\n",
        "\n",
        "*   reputation: Reputation of a user,\n",
        "*   creation_date: the date when the user created their account\n",
        "*   up_votes: the number of upvotes\n",
        "*   down_votes: the number of downvotes of the user\n",
        "*   views: the number of total views\n",
        "* profile_image_url: 1 if the user has profile image, 0 otherwise\n",
        "\n",
        "* website_url: 1 if the user has website, 0 otherwise.\n",
        "\n",
        "\n",
        "------"
      ]
    },
    {
      "cell_type": "markdown",
      "metadata": {
        "id": "DHXpUInlgOur"
      },
      "source": [
        "-------\n",
        "\n",
        "The average reputation length is 119.\n",
        "\n",
        "-------"
      ]
    },
    {
      "cell_type": "code",
      "metadata": {
        "id": "XLNLiwG6-cOk",
        "outputId": "2c7cb258-2f70-4b8c-f261-eca63151f901",
        "colab": {
          "base_uri": "https://localhost:8080/",
          "height": 77
        }
      },
      "source": [
        "%%bigquery --project $project_id\n",
        "\n",
        "SELECT AVG(reputation) as reputation\n",
        "FROM `bigquery-public-data.stackoverflow.users`\n",
        "WHERE reputation IS NOT NULL "
      ],
      "execution_count": 120,
      "outputs": [
        {
          "output_type": "execute_result",
          "data": {
            "text/html": [
              "<div>\n",
              "<style scoped>\n",
              "    .dataframe tbody tr th:only-of-type {\n",
              "        vertical-align: middle;\n",
              "    }\n",
              "\n",
              "    .dataframe tbody tr th {\n",
              "        vertical-align: top;\n",
              "    }\n",
              "\n",
              "    .dataframe thead th {\n",
              "        text-align: right;\n",
              "    }\n",
              "</style>\n",
              "<table border=\"1\" class=\"dataframe\">\n",
              "  <thead>\n",
              "    <tr style=\"text-align: right;\">\n",
              "      <th></th>\n",
              "      <th>reputation</th>\n",
              "    </tr>\n",
              "  </thead>\n",
              "  <tbody>\n",
              "    <tr>\n",
              "      <th>0</th>\n",
              "      <td>118.11372</td>\n",
              "    </tr>\n",
              "  </tbody>\n",
              "</table>\n",
              "</div>"
            ],
            "text/plain": [
              "   reputation\n",
              "0   118.11372"
            ]
          },
          "metadata": {
            "tags": []
          },
          "execution_count": 120
        }
      ]
    },
    {
      "cell_type": "markdown",
      "metadata": {
        "id": "Fc_clta9g3H5"
      },
      "source": [
        "## Data Exploration"
      ]
    },
    {
      "cell_type": "code",
      "metadata": {
        "id": "Ye4qygfI_ocC"
      },
      "source": [
        "%%bigquery --project $project_id users_data\n",
        "\n",
        "SELECT IF(reputation = 0, 1, reputation) as reputation,\n",
        "      BYTE_LENGTH(about_me) as about_me_length, \n",
        "      creation_date,\n",
        "      IF(up_votes = 0, 1, up_votes) as up_votes,\n",
        "      IF(down_votes = 0, 1, down_votes) as down_votes,\n",
        "      IF(views = 0, 1, views) as views,\n",
        "      IF(profile_image_url IS NULL, 0, 1) as has_profile_image, \n",
        "      IF(website_url is NULL, 0, 1) as has_website_url,\n",
        "FROM `bigquery-public-data.stackoverflow.users`\n",
        "WHERE DATE(creation_date) between '2010-01-01' AND '2010-11-01' \n",
        "      and about_me is NOT NULL\n",
        "      and up_votes is NOT NULL \n",
        "      and down_votes is NOT NULL\n",
        "      and reputation is NOT NULL"
      ],
      "execution_count": 72,
      "outputs": []
    },
    {
      "cell_type": "markdown",
      "metadata": {
        "id": "c6Kk8jTzhgbP"
      },
      "source": [
        "--------\n",
        "\n",
        "The `users_data` table looks like the following: \n",
        "\n",
        "---------"
      ]
    },
    {
      "cell_type": "code",
      "metadata": {
        "id": "abdXBKbUEqUY",
        "outputId": "c18ca469-b210-4bd0-b25f-0d53444c79b6",
        "colab": {
          "base_uri": "https://localhost:8080/",
          "height": 570
        }
      },
      "source": [
        "display(users_data)"
      ],
      "execution_count": 73,
      "outputs": [
        {
          "output_type": "display_data",
          "data": {
            "text/html": [
              "<div>\n",
              "<style scoped>\n",
              "    .dataframe tbody tr th:only-of-type {\n",
              "        vertical-align: middle;\n",
              "    }\n",
              "\n",
              "    .dataframe tbody tr th {\n",
              "        vertical-align: top;\n",
              "    }\n",
              "\n",
              "    .dataframe thead th {\n",
              "        text-align: right;\n",
              "    }\n",
              "</style>\n",
              "<table border=\"1\" class=\"dataframe\">\n",
              "  <thead>\n",
              "    <tr style=\"text-align: right;\">\n",
              "      <th></th>\n",
              "      <th>reputation</th>\n",
              "      <th>about_me_length</th>\n",
              "      <th>creation_date</th>\n",
              "      <th>up_votes</th>\n",
              "      <th>down_votes</th>\n",
              "      <th>views</th>\n",
              "      <th>has_profile_image</th>\n",
              "      <th>has_website_url</th>\n",
              "    </tr>\n",
              "  </thead>\n",
              "  <tbody>\n",
              "    <tr>\n",
              "      <th>0</th>\n",
              "      <td>3366</td>\n",
              "      <td>19</td>\n",
              "      <td>2010-01-15 17:25:11.137000+00:00</td>\n",
              "      <td>2089</td>\n",
              "      <td>43</td>\n",
              "      <td>299</td>\n",
              "      <td>0</td>\n",
              "      <td>0</td>\n",
              "    </tr>\n",
              "    <tr>\n",
              "      <th>1</th>\n",
              "      <td>2062</td>\n",
              "      <td>106</td>\n",
              "      <td>2010-04-25 09:13:05.827000+00:00</td>\n",
              "      <td>79</td>\n",
              "      <td>29</td>\n",
              "      <td>154</td>\n",
              "      <td>0</td>\n",
              "      <td>0</td>\n",
              "    </tr>\n",
              "    <tr>\n",
              "      <th>2</th>\n",
              "      <td>10688</td>\n",
              "      <td>512</td>\n",
              "      <td>2010-05-19 01:54:08.833000+00:00</td>\n",
              "      <td>1492</td>\n",
              "      <td>514</td>\n",
              "      <td>2620</td>\n",
              "      <td>0</td>\n",
              "      <td>1</td>\n",
              "    </tr>\n",
              "    <tr>\n",
              "      <th>3</th>\n",
              "      <td>3487</td>\n",
              "      <td>35</td>\n",
              "      <td>2010-05-19 12:45:49.680000+00:00</td>\n",
              "      <td>309</td>\n",
              "      <td>40</td>\n",
              "      <td>515</td>\n",
              "      <td>0</td>\n",
              "      <td>1</td>\n",
              "    </tr>\n",
              "    <tr>\n",
              "      <th>4</th>\n",
              "      <td>1751</td>\n",
              "      <td>72</td>\n",
              "      <td>2010-05-29 16:05:29.420000+00:00</td>\n",
              "      <td>91</td>\n",
              "      <td>22</td>\n",
              "      <td>376</td>\n",
              "      <td>1</td>\n",
              "      <td>0</td>\n",
              "    </tr>\n",
              "    <tr>\n",
              "      <th>...</th>\n",
              "      <td>...</td>\n",
              "      <td>...</td>\n",
              "      <td>...</td>\n",
              "      <td>...</td>\n",
              "      <td>...</td>\n",
              "      <td>...</td>\n",
              "      <td>...</td>\n",
              "      <td>...</td>\n",
              "    </tr>\n",
              "    <tr>\n",
              "      <th>28686</th>\n",
              "      <td>15800</td>\n",
              "      <td>1031</td>\n",
              "      <td>2010-09-19 19:30:46.257000+00:00</td>\n",
              "      <td>1853</td>\n",
              "      <td>18</td>\n",
              "      <td>1388</td>\n",
              "      <td>1</td>\n",
              "      <td>1</td>\n",
              "    </tr>\n",
              "    <tr>\n",
              "      <th>28687</th>\n",
              "      <td>5919</td>\n",
              "      <td>48</td>\n",
              "      <td>2010-09-22 04:54:59.537000+00:00</td>\n",
              "      <td>478</td>\n",
              "      <td>18</td>\n",
              "      <td>226</td>\n",
              "      <td>0</td>\n",
              "      <td>1</td>\n",
              "    </tr>\n",
              "    <tr>\n",
              "      <th>28688</th>\n",
              "      <td>5074</td>\n",
              "      <td>95</td>\n",
              "      <td>2010-09-22 05:22:45.167000+00:00</td>\n",
              "      <td>349</td>\n",
              "      <td>18</td>\n",
              "      <td>893</td>\n",
              "      <td>1</td>\n",
              "      <td>1</td>\n",
              "    </tr>\n",
              "    <tr>\n",
              "      <th>28689</th>\n",
              "      <td>6144</td>\n",
              "      <td>97</td>\n",
              "      <td>2010-10-13 11:51:34.743000+00:00</td>\n",
              "      <td>2419</td>\n",
              "      <td>18</td>\n",
              "      <td>433</td>\n",
              "      <td>1</td>\n",
              "      <td>0</td>\n",
              "    </tr>\n",
              "    <tr>\n",
              "      <th>28690</th>\n",
              "      <td>3627</td>\n",
              "      <td>258</td>\n",
              "      <td>2010-08-29 19:47:51.130000+00:00</td>\n",
              "      <td>731</td>\n",
              "      <td>18</td>\n",
              "      <td>237</td>\n",
              "      <td>1</td>\n",
              "      <td>1</td>\n",
              "    </tr>\n",
              "  </tbody>\n",
              "</table>\n",
              "<p>28691 rows × 8 columns</p>\n",
              "</div>"
            ],
            "text/plain": [
              "       reputation  about_me_length  ... has_profile_image  has_website_url\n",
              "0            3366               19  ...                 0                0\n",
              "1            2062              106  ...                 0                0\n",
              "2           10688              512  ...                 0                1\n",
              "3            3487               35  ...                 0                1\n",
              "4            1751               72  ...                 1                0\n",
              "...           ...              ...  ...               ...              ...\n",
              "28686       15800             1031  ...                 1                1\n",
              "28687        5919               48  ...                 0                1\n",
              "28688        5074               95  ...                 1                1\n",
              "28689        6144               97  ...                 1                0\n",
              "28690        3627              258  ...                 1                1\n",
              "\n",
              "[28691 rows x 8 columns]"
            ]
          },
          "metadata": {
            "tags": []
          }
        }
      ]
    },
    {
      "cell_type": "markdown",
      "metadata": {
        "id": "IqWqItDehpme"
      },
      "source": [
        "--------- \n",
        "\n",
        "### Feature exploration\n",
        "\n",
        "-------"
      ]
    },
    {
      "cell_type": "code",
      "metadata": {
        "id": "hp2Qjg7YCyza"
      },
      "source": [
        "# Add imports for any visualization libraries you may need\n",
        "import matplotlib.pyplot as plt\n",
        "import numpy as np\n",
        "import pandas as pd\n",
        "\n",
        "%matplotlib inline"
      ],
      "execution_count": 34,
      "outputs": []
    },
    {
      "cell_type": "markdown",
      "metadata": {
        "id": "Pq_bnBA8WozH"
      },
      "source": [
        "--------\n",
        "\n",
        "The plot of sample `Log(reputation) vs Log(up_votes)` indicates that there is a linear relationship trend between log(reputation) and log(up_votes) since we can see diagonal line formed by the sample points. \n",
        "\n",
        "--------"
      ]
    },
    {
      "cell_type": "code",
      "metadata": {
        "id": "nNIOuRp5N5pU",
        "outputId": "77a125c2-c802-4c61-8dae-5712f46da9c8",
        "colab": {
          "base_uri": "https://localhost:8080/",
          "height": 660
        }
      },
      "source": [
        "%matplotlib inline\n",
        "\n",
        "df = pd.DataFrame({\"x\" : users_data[\"reputation\"], \"y\" : users_data[\"up_votes\"]})\n",
        "sample_df = df.sample(n = 10000, replace=False, random_state=0)\n",
        "plt.figure(figsize=(10,10))\n",
        "\n",
        "plt.yscale(\"log\")\n",
        "plt.xscale(\"log\")\n",
        "plt.xlabel(\"log(reputation)\", fontsize=20)\n",
        "plt.ylabel(\"log(up_votes)\", fontsize=20)\n",
        "plt.title(\"log(reputation) vs log(up_votes) distribution\", fontsize=25)\n",
        "plt.scatter(sample_df[\"x\"], sample_df[\"y\"])"
      ],
      "execution_count": 117,
      "outputs": [
        {
          "output_type": "execute_result",
          "data": {
            "text/plain": [
              "<matplotlib.collections.PathCollection at 0x7fddca0e16a0>"
            ]
          },
          "metadata": {
            "tags": []
          },
          "execution_count": 117
        },
        {
          "output_type": "display_data",
          "data": {
            "image/png": "[encoded data removed]",
            "text/plain": [
              "<Figure size 720x720 with 1 Axes>"
            ]
          },
          "metadata": {
            "tags": [],
            "needs_background": "light"
          }
        }
      ]
    },
    {
      "cell_type": "markdown",
      "metadata": {
        "id": "4S4BcTocXLsY"
      },
      "source": [
        "------\n",
        "\n",
        "The plot of sample `Log(reputation) vs Log(down_votes)` indicates that there could be a linear relationship trend between log(reputation) and log(down_votes).\n",
        "\n",
        "---------"
      ]
    },
    {
      "cell_type": "code",
      "metadata": {
        "id": "f_i5AfHqVboo",
        "outputId": "4357e389-93d9-4f58-eb01-06e66d1a10fb",
        "colab": {
          "base_uri": "https://localhost:8080/",
          "height": 660
        }
      },
      "source": [
        "%matplotlib inline\n",
        "\n",
        "df = pd.DataFrame({\"x\" : users_data[\"reputation\"], \"y\" : users_data[\"down_votes\"]})\n",
        "sample_df = df.sample(n = 10000, replace=False, random_state=0)\n",
        "plt.figure(figsize=(10,10))\n",
        "\n",
        "plt.yscale(\"log\")\n",
        "plt.xscale(\"log\")\n",
        "plt.xlabel(\"log(reputation)\", fontsize=20)\n",
        "plt.ylabel(\"log(down_votes)\", fontsize=20)\n",
        "plt.title(\"log(reputation) vs log(down_votes) distribution\", fontsize=25)\n",
        "plt.scatter(sample_df[\"x\"], sample_df[\"y\"])"
      ],
      "execution_count": 116,
      "outputs": [
        {
          "output_type": "execute_result",
          "data": {
            "text/plain": [
              "<matplotlib.collections.PathCollection at 0x7fddca2c6160>"
            ]
          },
          "metadata": {
            "tags": []
          },
          "execution_count": 116
        },
        {
          "output_type": "display_data",
          "data": {
            "image/png": "[encoded data removed]",
            "text/plain": [
              "<Figure size 720x720 with 1 Axes>"
            ]
          },
          "metadata": {
            "tags": [],
            "needs_background": "light"
          }
        }
      ]
    },
    {
      "cell_type": "markdown",
      "metadata": {
        "id": "TyzFOfnwXd4Z"
      },
      "source": [
        "------\n",
        "\n",
        "The plot of sample `Log(up_votes) vs Log(views)` indicates that there is a linear relationship trend between log(up_votes) and log(views) since we can see diagonal line formed by the sample points.  \n",
        "\n",
        "------"
      ]
    },
    {
      "cell_type": "code",
      "metadata": {
        "id": "3uOfgi5VOFvl",
        "outputId": "be9abbb9-0852-4922-f16b-441b2b0270c9",
        "colab": {
          "base_uri": "https://localhost:8080/",
          "height": 661
        }
      },
      "source": [
        "%matplotlib inline\n",
        "\n",
        "df = pd.DataFrame({\"x\" : users_data[\"up_votes\"], \"y\" : users_data[\"views\"]})\n",
        "sample_df = df.sample(n = 10000, replace=False, random_state=0)\n",
        "plt.figure(figsize=(10,10))\n",
        "\n",
        "plt.yscale(\"log\")\n",
        "plt.xscale(\"log\")\n",
        "plt.xlabel(\"log(up_votes)\", fontsize=20)\n",
        "plt.ylabel(\"log(views)\", fontsize=20)\n",
        "plt.title(\"Log(up_votes) vs Log(views) distribution\", fontsize=25)\n",
        "plt.scatter(sample_df[\"x\"], sample_df[\"y\"])"
      ],
      "execution_count": 96,
      "outputs": [
        {
          "output_type": "execute_result",
          "data": {
            "text/plain": [
              "<matplotlib.collections.PathCollection at 0x7fddcab0f5f8>"
            ]
          },
          "metadata": {
            "tags": []
          },
          "execution_count": 96
        },
        {
          "output_type": "display_data",
          "data": {
            "image/png": "[encoded data removed]",
            "text/plain": [
              "<Figure size 720x720 with 1 Axes>"
            ]
          },
          "metadata": {
            "tags": [],
            "needs_background": "light"
          }
        }
      ]
    },
    {
      "cell_type": "markdown",
      "metadata": {
        "id": "9kzMdsthS5xt"
      },
      "source": [
        "We save the resulting table in `cs145-project3-294103.stackoverflow.users_table` (where date_creation is all dates, not just 2010)"
      ]
    },
    {
      "cell_type": "markdown",
      "metadata": {
        "id": "NhFSJifsiC1U"
      },
      "source": [
        "## Data Prediction"
      ]
    },
    {
      "cell_type": "markdown",
      "metadata": {
        "id": "i7c-92A_ZIA8"
      },
      "source": [
        "------\n",
        "\n",
        "We will split `Stackoverflow` data in year 2010 to training set (`creation_date` is between '2010-01-01' AND '2010-11-01'), evaluation set (`creation_date` between '2010-11-01' AND '2010-12-01'), and test set (`creation_date` between '2010-12-01' AND '2011-01-01').\n",
        "\n",
        "We will create our model `stackoverflow.users_model` and specify the model type as linear_regression, and the label as log(reputation). (We want to use linear regression because we are predicting a continuous quantity, i.e reputation.)\n",
        "\n",
        "-----"
      ]
    },
    {
      "cell_type": "code",
      "metadata": {
        "id": "Ih4IrLiyTimv",
        "outputId": "7e174b3c-f3d1-4126-9b43-f2a1e76ab92e",
        "colab": {
          "base_uri": "https://localhost:8080/",
          "height": 31
        }
      },
      "source": [
        "%%bigquery --project $project_id \n",
        "\n",
        "CREATE OR REPLACE MODEL `stackoverflow.users_model` \n",
        "OPTIONS (model_type='linear_reg') AS\n",
        "SELECT log(reputation, 2) as label,\n",
        "      about_me_length as feature1, \n",
        "      log(up_votes, 2) as feature3,\n",
        "      log(down_votes, 2) as feature4,\n",
        "      views as feature5,\n",
        "      has_profile_image as feature6, \n",
        "      has_website_url as feature7,\n",
        "FROM `cs145-project3-294103.stackoverflow.users_table`\n",
        "WHERE (DATE(creation_date) between '2010-01-01' AND '2010-11-01')"
      ],
      "execution_count": 111,
      "outputs": [
        {
          "output_type": "execute_result",
          "data": {
            "text/html": [
              "<div>\n",
              "<style scoped>\n",
              "    .dataframe tbody tr th:only-of-type {\n",
              "        vertical-align: middle;\n",
              "    }\n",
              "\n",
              "    .dataframe tbody tr th {\n",
              "        vertical-align: top;\n",
              "    }\n",
              "\n",
              "    .dataframe thead th {\n",
              "        text-align: right;\n",
              "    }\n",
              "</style>\n",
              "<table border=\"1\" class=\"dataframe\">\n",
              "  <thead>\n",
              "    <tr style=\"text-align: right;\">\n",
              "      <th></th>\n",
              "    </tr>\n",
              "  </thead>\n",
              "  <tbody>\n",
              "  </tbody>\n",
              "</table>\n",
              "</div>"
            ],
            "text/plain": [
              "Empty DataFrame\n",
              "Columns: []\n",
              "Index: []"
            ]
          },
          "metadata": {
            "tags": []
          },
          "execution_count": 111
        }
      ]
    },
    {
      "cell_type": "code",
      "metadata": {
        "id": "uP7eDD5Z1v7L",
        "outputId": "40a73045-7a41-43b3-f9a7-83a55a24e3a3",
        "colab": {
          "base_uri": "https://localhost:8080/",
          "height": 77
        }
      },
      "source": [
        "%%bigquery --project $project_id\n",
        "\n",
        "SELECT * FROM \n",
        " ML.TRAINING_INFO(MODEL `stackoverflow.users_model`)\n"
      ],
      "execution_count": 138,
      "outputs": [
        {
          "output_type": "execute_result",
          "data": {
            "text/html": [
              "<div>\n",
              "<style scoped>\n",
              "    .dataframe tbody tr th:only-of-type {\n",
              "        vertical-align: middle;\n",
              "    }\n",
              "\n",
              "    .dataframe tbody tr th {\n",
              "        vertical-align: top;\n",
              "    }\n",
              "\n",
              "    .dataframe thead th {\n",
              "        text-align: right;\n",
              "    }\n",
              "</style>\n",
              "<table border=\"1\" class=\"dataframe\">\n",
              "  <thead>\n",
              "    <tr style=\"text-align: right;\">\n",
              "      <th></th>\n",
              "      <th>training_run</th>\n",
              "      <th>iteration</th>\n",
              "      <th>loss</th>\n",
              "      <th>eval_loss</th>\n",
              "      <th>learning_rate</th>\n",
              "      <th>duration_ms</th>\n",
              "    </tr>\n",
              "  </thead>\n",
              "  <tbody>\n",
              "    <tr>\n",
              "      <th>0</th>\n",
              "      <td>0</td>\n",
              "      <td>0</td>\n",
              "      <td>3.952189</td>\n",
              "      <td>3.830492</td>\n",
              "      <td>None</td>\n",
              "      <td>3306</td>\n",
              "    </tr>\n",
              "  </tbody>\n",
              "</table>\n",
              "</div>"
            ],
            "text/plain": [
              "   training_run  iteration      loss  eval_loss learning_rate  duration_ms\n",
              "0             0          0  3.952189   3.830492          None         3306"
            ]
          },
          "metadata": {
            "tags": []
          },
          "execution_count": 138
        }
      ]
    },
    {
      "cell_type": "code",
      "metadata": {
        "id": "HXc3tQQwkful",
        "outputId": "7c54b3e1-7a37-4eb7-ca1e-373915d4380f",
        "colab": {
          "base_uri": "https://localhost:8080/",
          "height": 225
        }
      },
      "source": [
        "%%bigquery --project $project_id\n",
        "\n",
        "SELECT\n",
        "  input, min, max, mean, stddev\n",
        "FROM\n",
        "  ml.FEATURE_INFO(MODEL `stackoverflow.users_model`) AS model"
      ],
      "execution_count": 139,
      "outputs": [
        {
          "output_type": "execute_result",
          "data": {
            "text/html": [
              "<div>\n",
              "<style scoped>\n",
              "    .dataframe tbody tr th:only-of-type {\n",
              "        vertical-align: middle;\n",
              "    }\n",
              "\n",
              "    .dataframe tbody tr th {\n",
              "        vertical-align: top;\n",
              "    }\n",
              "\n",
              "    .dataframe thead th {\n",
              "        text-align: right;\n",
              "    }\n",
              "</style>\n",
              "<table border=\"1\" class=\"dataframe\">\n",
              "  <thead>\n",
              "    <tr style=\"text-align: right;\">\n",
              "      <th></th>\n",
              "      <th>input</th>\n",
              "      <th>min</th>\n",
              "      <th>max</th>\n",
              "      <th>mean</th>\n",
              "      <th>stddev</th>\n",
              "    </tr>\n",
              "  </thead>\n",
              "  <tbody>\n",
              "    <tr>\n",
              "      <th>0</th>\n",
              "      <td>feature1</td>\n",
              "      <td>1.0</td>\n",
              "      <td>5907.000000</td>\n",
              "      <td>181.308238</td>\n",
              "      <td>292.611868</td>\n",
              "    </tr>\n",
              "    <tr>\n",
              "      <th>1</th>\n",
              "      <td>feature3</td>\n",
              "      <td>0.0</td>\n",
              "      <td>14.913731</td>\n",
              "      <td>5.308076</td>\n",
              "      <td>3.421662</td>\n",
              "    </tr>\n",
              "    <tr>\n",
              "      <th>2</th>\n",
              "      <td>feature4</td>\n",
              "      <td>0.0</td>\n",
              "      <td>15.807229</td>\n",
              "      <td>1.547829</td>\n",
              "      <td>2.212191</td>\n",
              "    </tr>\n",
              "    <tr>\n",
              "      <th>3</th>\n",
              "      <td>feature5</td>\n",
              "      <td>1.0</td>\n",
              "      <td>77046.000000</td>\n",
              "      <td>403.045048</td>\n",
              "      <td>1887.866075</td>\n",
              "    </tr>\n",
              "    <tr>\n",
              "      <th>4</th>\n",
              "      <td>feature6</td>\n",
              "      <td>0.0</td>\n",
              "      <td>1.000000</td>\n",
              "      <td>0.208808</td>\n",
              "      <td>0.406466</td>\n",
              "    </tr>\n",
              "    <tr>\n",
              "      <th>5</th>\n",
              "      <td>feature7</td>\n",
              "      <td>0.0</td>\n",
              "      <td>1.000000</td>\n",
              "      <td>0.634005</td>\n",
              "      <td>0.481719</td>\n",
              "    </tr>\n",
              "  </tbody>\n",
              "</table>\n",
              "</div>"
            ],
            "text/plain": [
              "      input  min           max        mean       stddev\n",
              "0  feature1  1.0   5907.000000  181.308238   292.611868\n",
              "1  feature3  0.0     14.913731    5.308076     3.421662\n",
              "2  feature4  0.0     15.807229    1.547829     2.212191\n",
              "3  feature5  1.0  77046.000000  403.045048  1887.866075\n",
              "4  feature6  0.0      1.000000    0.208808     0.406466\n",
              "5  feature7  0.0      1.000000    0.634005     0.481719"
            ]
          },
          "metadata": {
            "tags": []
          },
          "execution_count": 139
        }
      ]
    },
    {
      "cell_type": "markdown",
      "metadata": {
        "id": "7IAz0rDNZyVb"
      },
      "source": [
        "We will evaluate the trained model on the unseen data (creation date between 2010-11-01 and 2010-12-01). "
      ]
    },
    {
      "cell_type": "code",
      "metadata": {
        "id": "NkMAHWma2Mp4",
        "outputId": "9031e296-43f3-4f38-d1cb-26f3d89d3aff",
        "colab": {
          "base_uri": "https://localhost:8080/",
          "height": 77
        }
      },
      "source": [
        "%%bigquery --project $project_id\n",
        "\n",
        "SELECT\n",
        "  *\n",
        "FROM\n",
        "  ML.EVALUATE(MODEL `stackoverflow.users_model`, (\n",
        "SELECT log(reputation, 2) as label,\n",
        "      about_me_length as feature1, \n",
        "      log(up_votes, 2) as feature3,\n",
        "      log(down_votes, 2) as feature4,\n",
        "      views as feature5,\n",
        "      has_profile_image as feature6, \n",
        "      has_website_url as feature7,\n",
        "FROM `cs145-project3-294103.stackoverflow.users_table`\n",
        "WHERE (DATE(creation_date) between '2010-11-01' AND '2010-12-01')))\n"
      ],
      "execution_count": 113,
      "outputs": [
        {
          "output_type": "execute_result",
          "data": {
            "text/html": [
              "<div>\n",
              "<style scoped>\n",
              "    .dataframe tbody tr th:only-of-type {\n",
              "        vertical-align: middle;\n",
              "    }\n",
              "\n",
              "    .dataframe tbody tr th {\n",
              "        vertical-align: top;\n",
              "    }\n",
              "\n",
              "    .dataframe thead th {\n",
              "        text-align: right;\n",
              "    }\n",
              "</style>\n",
              "<table border=\"1\" class=\"dataframe\">\n",
              "  <thead>\n",
              "    <tr style=\"text-align: right;\">\n",
              "      <th></th>\n",
              "      <th>mean_absolute_error</th>\n",
              "      <th>mean_squared_error</th>\n",
              "      <th>mean_squared_log_error</th>\n",
              "      <th>median_absolute_error</th>\n",
              "      <th>r2_score</th>\n",
              "      <th>explained_variance</th>\n",
              "    </tr>\n",
              "  </thead>\n",
              "  <tbody>\n",
              "    <tr>\n",
              "      <th>0</th>\n",
              "      <td>1.557341</td>\n",
              "      <td>4.27947</td>\n",
              "      <td>0.226869</td>\n",
              "      <td>1.176654</td>\n",
              "      <td>0.658296</td>\n",
              "      <td>0.659492</td>\n",
              "    </tr>\n",
              "  </tbody>\n",
              "</table>\n",
              "</div>"
            ],
            "text/plain": [
              "   mean_absolute_error  mean_squared_error  ...  r2_score  explained_variance\n",
              "0             1.557341             4.27947  ...  0.658296            0.659492\n",
              "\n",
              "[1 rows x 6 columns]"
            ]
          },
          "metadata": {
            "tags": []
          },
          "execution_count": 113
        }
      ]
    },
    {
      "cell_type": "markdown",
      "metadata": {
        "id": "_JIKSyakZram"
      },
      "source": [
        "Now that we have trained our data and evaluated on the evaluation dataset, we will predict it on a new data set (creation date between 2010-12-01 and 2011-01-01). \n",
        "\n",
        "We will randomly print out 2/1000 of the test data. "
      ]
    },
    {
      "cell_type": "code",
      "metadata": {
        "id": "wYZoAnaD2a5R",
        "outputId": "93f55fb9-a60d-4dc9-c06c-7beac7e5144e",
        "colab": {
          "base_uri": "https://localhost:8080/",
          "height": 314
        }
      },
      "source": [
        "%%bigquery --project $project_id\n",
        "\n",
        "SELECT\n",
        "  label,\n",
        "  predicted_label\n",
        "FROM\n",
        "  ML.PREDICT(MODEL `stackoverflow.users_model`, ( \n",
        "SELECT log(reputation, 2) as label,\n",
        "      about_me_length as feature1, \n",
        "      log(up_votes, 2) as feature3,\n",
        "      log(down_votes, 2) as feature4,\n",
        "      views as feature5,\n",
        "      has_profile_image as feature6, \n",
        "      has_website_url as feature7,\n",
        "FROM `cs145-project3-294103.stackoverflow.users_table`\n",
        "WHERE (DATE(creation_date) between '2010-12-01' AND '2011-01-01')))\n",
        "WHERE rand() < 0.002"
      ],
      "execution_count": 115,
      "outputs": [
        {
          "output_type": "execute_result",
          "data": {
            "text/html": [
              "<div>\n",
              "<style scoped>\n",
              "    .dataframe tbody tr th:only-of-type {\n",
              "        vertical-align: middle;\n",
              "    }\n",
              "\n",
              "    .dataframe tbody tr th {\n",
              "        vertical-align: top;\n",
              "    }\n",
              "\n",
              "    .dataframe thead th {\n",
              "        text-align: right;\n",
              "    }\n",
              "</style>\n",
              "<table border=\"1\" class=\"dataframe\">\n",
              "  <thead>\n",
              "    <tr style=\"text-align: right;\">\n",
              "      <th></th>\n",
              "      <th>label</th>\n",
              "      <th>predicted_label</th>\n",
              "    </tr>\n",
              "  </thead>\n",
              "  <tbody>\n",
              "    <tr>\n",
              "      <th>0</th>\n",
              "      <td>12.746934</td>\n",
              "      <td>11.457102</td>\n",
              "    </tr>\n",
              "    <tr>\n",
              "      <th>1</th>\n",
              "      <td>5.426265</td>\n",
              "      <td>4.956440</td>\n",
              "    </tr>\n",
              "    <tr>\n",
              "      <th>2</th>\n",
              "      <td>0.000000</td>\n",
              "      <td>4.820331</td>\n",
              "    </tr>\n",
              "    <tr>\n",
              "      <th>3</th>\n",
              "      <td>11.221587</td>\n",
              "      <td>9.249843</td>\n",
              "    </tr>\n",
              "    <tr>\n",
              "      <th>4</th>\n",
              "      <td>6.700440</td>\n",
              "      <td>7.641745</td>\n",
              "    </tr>\n",
              "    <tr>\n",
              "      <th>5</th>\n",
              "      <td>9.276124</td>\n",
              "      <td>10.218649</td>\n",
              "    </tr>\n",
              "    <tr>\n",
              "      <th>6</th>\n",
              "      <td>11.116344</td>\n",
              "      <td>11.725399</td>\n",
              "    </tr>\n",
              "    <tr>\n",
              "      <th>7</th>\n",
              "      <td>11.864573</td>\n",
              "      <td>12.565717</td>\n",
              "    </tr>\n",
              "    <tr>\n",
              "      <th>8</th>\n",
              "      <td>4.392317</td>\n",
              "      <td>5.207814</td>\n",
              "    </tr>\n",
              "  </tbody>\n",
              "</table>\n",
              "</div>"
            ],
            "text/plain": [
              "       label  predicted_label\n",
              "0  12.746934        11.457102\n",
              "1   5.426265         4.956440\n",
              "2   0.000000         4.820331\n",
              "3  11.221587         9.249843\n",
              "4   6.700440         7.641745\n",
              "5   9.276124        10.218649\n",
              "6  11.116344        11.725399\n",
              "7  11.864573        12.565717\n",
              "8   4.392317         5.207814"
            ]
          },
          "metadata": {
            "tags": []
          },
          "execution_count": 115
        }
      ]
    },
    {
      "cell_type": "code",
      "metadata": {
        "id": "h_jGGGUXk788",
        "outputId": "56d39f5a-0a4a-41f4-ecfb-b0d013ec02b6",
        "colab": {
          "base_uri": "https://localhost:8080/",
          "height": 432
        }
      },
      "source": [
        "%%bigquery --project $project_id\n",
        "\n",
        "SELECT\n",
        "  power(2, predicted_label) as predicted_reputation, \n",
        "  feature1 as about_me_length, \n",
        "  power(2, feature3) as up_votes ,\n",
        "  power(2, feature4) as down_votes,\n",
        "  feature5 as views, \n",
        "  feature6 as has_profile_image, \n",
        "  feature7 as has_website_url,\n",
        "\n",
        "FROM\n",
        "  ML.PREDICT(MODEL `stackoverflow.users_model`, ( \n",
        "SELECT log(reputation, 2) as label,\n",
        "      about_me_length as feature1, \n",
        "      log(up_votes, 2) as feature3,\n",
        "      log(down_votes, 2) as feature4,\n",
        "      views as feature5,\n",
        "      has_profile_image as feature6, \n",
        "      has_website_url as feature7,\n",
        "FROM `cs145-project3-294103.stackoverflow.users_table`\n",
        "WHERE (DATE(creation_date) between '2010-12-01' AND '2011-01-01')))\n",
        "WHERE rand() < 0.002"
      ],
      "execution_count": 142,
      "outputs": [
        {
          "output_type": "execute_result",
          "data": {
            "text/html": [
              "<div>\n",
              "<style scoped>\n",
              "    .dataframe tbody tr th:only-of-type {\n",
              "        vertical-align: middle;\n",
              "    }\n",
              "\n",
              "    .dataframe tbody tr th {\n",
              "        vertical-align: top;\n",
              "    }\n",
              "\n",
              "    .dataframe thead th {\n",
              "        text-align: right;\n",
              "    }\n",
              "</style>\n",
              "<table border=\"1\" class=\"dataframe\">\n",
              "  <thead>\n",
              "    <tr style=\"text-align: right;\">\n",
              "      <th></th>\n",
              "      <th>predicted_reputation</th>\n",
              "      <th>about_me_length</th>\n",
              "      <th>up_votes</th>\n",
              "      <th>down_votes</th>\n",
              "      <th>views</th>\n",
              "      <th>has_profile_image</th>\n",
              "      <th>has_website_url</th>\n",
              "    </tr>\n",
              "  </thead>\n",
              "  <tbody>\n",
              "    <tr>\n",
              "      <th>0</th>\n",
              "      <td>3052.356343</td>\n",
              "      <td>107</td>\n",
              "      <td>375.0</td>\n",
              "      <td>11.0</td>\n",
              "      <td>73</td>\n",
              "      <td>0</td>\n",
              "      <td>0</td>\n",
              "    </tr>\n",
              "    <tr>\n",
              "      <th>1</th>\n",
              "      <td>196.673549</td>\n",
              "      <td>23</td>\n",
              "      <td>17.0</td>\n",
              "      <td>1.0</td>\n",
              "      <td>23</td>\n",
              "      <td>0</td>\n",
              "      <td>0</td>\n",
              "    </tr>\n",
              "    <tr>\n",
              "      <th>2</th>\n",
              "      <td>72.751495</td>\n",
              "      <td>9</td>\n",
              "      <td>4.0</td>\n",
              "      <td>1.0</td>\n",
              "      <td>5</td>\n",
              "      <td>0</td>\n",
              "      <td>0</td>\n",
              "    </tr>\n",
              "    <tr>\n",
              "      <th>3</th>\n",
              "      <td>2010.186403</td>\n",
              "      <td>152</td>\n",
              "      <td>193.0</td>\n",
              "      <td>9.0</td>\n",
              "      <td>70</td>\n",
              "      <td>1</td>\n",
              "      <td>1</td>\n",
              "    </tr>\n",
              "    <tr>\n",
              "      <th>4</th>\n",
              "      <td>28.389254</td>\n",
              "      <td>48</td>\n",
              "      <td>1.0</td>\n",
              "      <td>1.0</td>\n",
              "      <td>32</td>\n",
              "      <td>0</td>\n",
              "      <td>0</td>\n",
              "    </tr>\n",
              "    <tr>\n",
              "      <th>5</th>\n",
              "      <td>29.533786</td>\n",
              "      <td>268</td>\n",
              "      <td>1.0</td>\n",
              "      <td>1.0</td>\n",
              "      <td>15</td>\n",
              "      <td>1</td>\n",
              "      <td>0</td>\n",
              "    </tr>\n",
              "    <tr>\n",
              "      <th>6</th>\n",
              "      <td>1392.198948</td>\n",
              "      <td>49</td>\n",
              "      <td>260.0</td>\n",
              "      <td>1.0</td>\n",
              "      <td>80</td>\n",
              "      <td>1</td>\n",
              "      <td>1</td>\n",
              "    </tr>\n",
              "    <tr>\n",
              "      <th>7</th>\n",
              "      <td>215.405920</td>\n",
              "      <td>254</td>\n",
              "      <td>18.0</td>\n",
              "      <td>1.0</td>\n",
              "      <td>149</td>\n",
              "      <td>1</td>\n",
              "      <td>0</td>\n",
              "    </tr>\n",
              "    <tr>\n",
              "      <th>8</th>\n",
              "      <td>467.678245</td>\n",
              "      <td>61</td>\n",
              "      <td>59.0</td>\n",
              "      <td>1.0</td>\n",
              "      <td>63</td>\n",
              "      <td>1</td>\n",
              "      <td>0</td>\n",
              "    </tr>\n",
              "    <tr>\n",
              "      <th>9</th>\n",
              "      <td>31.112731</td>\n",
              "      <td>156</td>\n",
              "      <td>1.0</td>\n",
              "      <td>1.0</td>\n",
              "      <td>7</td>\n",
              "      <td>0</td>\n",
              "      <td>1</td>\n",
              "    </tr>\n",
              "    <tr>\n",
              "      <th>10</th>\n",
              "      <td>3394.797737</td>\n",
              "      <td>34</td>\n",
              "      <td>964.0</td>\n",
              "      <td>1.0</td>\n",
              "      <td>31</td>\n",
              "      <td>1</td>\n",
              "      <td>1</td>\n",
              "    </tr>\n",
              "    <tr>\n",
              "      <th>11</th>\n",
              "      <td>3852.673836</td>\n",
              "      <td>159</td>\n",
              "      <td>561.0</td>\n",
              "      <td>9.0</td>\n",
              "      <td>63</td>\n",
              "      <td>0</td>\n",
              "      <td>0</td>\n",
              "    </tr>\n",
              "    <tr>\n",
              "      <th>12</th>\n",
              "      <td>250.345820</td>\n",
              "      <td>60</td>\n",
              "      <td>24.0</td>\n",
              "      <td>1.0</td>\n",
              "      <td>11</td>\n",
              "      <td>0</td>\n",
              "      <td>0</td>\n",
              "    </tr>\n",
              "  </tbody>\n",
              "</table>\n",
              "</div>"
            ],
            "text/plain": [
              "    predicted_reputation  about_me_length  ...  has_profile_image  has_website_url\n",
              "0            3052.356343              107  ...                  0                0\n",
              "1             196.673549               23  ...                  0                0\n",
              "2              72.751495                9  ...                  0                0\n",
              "3            2010.186403              152  ...                  1                1\n",
              "4              28.389254               48  ...                  0                0\n",
              "5              29.533786              268  ...                  1                0\n",
              "6            1392.198948               49  ...                  1                1\n",
              "7             215.405920              254  ...                  1                0\n",
              "8             467.678245               61  ...                  1                0\n",
              "9              31.112731              156  ...                  0                1\n",
              "10           3394.797737               34  ...                  1                1\n",
              "11           3852.673836              159  ...                  0                0\n",
              "12            250.345820               60  ...                  0                0\n",
              "\n",
              "[13 rows x 7 columns]"
            ]
          },
          "metadata": {
            "tags": []
          },
          "execution_count": 142
        }
      ]
    },
    {
      "cell_type": "markdown",
      "metadata": {
        "id": "rAvAZwuzbU_i"
      },
      "source": [
        "Moreover, we can test it on a different data set from 2011 - 2012 year. The result shows that even in 2011, the prediction looks accurate. (Out of curiousity, I tested the trained model on a different test set). "
      ]
    },
    {
      "cell_type": "code",
      "metadata": {
        "id": "nrIlEUulbAou",
        "outputId": "19f3b782-ef3a-46b1-ac8f-25e7f7053fb4",
        "colab": {
          "base_uri": "https://localhost:8080/",
          "height": 314
        }
      },
      "source": [
        "%%bigquery --project $project_id\n",
        "\n",
        "SELECT\n",
        "  label,\n",
        "  predicted_label\n",
        "FROM\n",
        "  ML.PREDICT(MODEL `stackoverflow.users_model`, ( \n",
        "SELECT log(reputation, 2) as label,\n",
        "      about_me_length as feature1, \n",
        "      log(up_votes, 2) as feature3,\n",
        "      log(down_votes, 2) as feature4,\n",
        "      views as feature5,\n",
        "      has_profile_image as feature6, \n",
        "      has_website_url as feature7,\n",
        "FROM `cs145-project3-294103.stackoverflow.users_table`\n",
        "WHERE (DATE(creation_date) between '2011-01-01' AND '2012-01-01')))\n",
        "WHERE rand() < 0.0001"
      ],
      "execution_count": 127,
      "outputs": [
        {
          "output_type": "execute_result",
          "data": {
            "text/html": [
              "<div>\n",
              "<style scoped>\n",
              "    .dataframe tbody tr th:only-of-type {\n",
              "        vertical-align: middle;\n",
              "    }\n",
              "\n",
              "    .dataframe tbody tr th {\n",
              "        vertical-align: top;\n",
              "    }\n",
              "\n",
              "    .dataframe thead th {\n",
              "        text-align: right;\n",
              "    }\n",
              "</style>\n",
              "<table border=\"1\" class=\"dataframe\">\n",
              "  <thead>\n",
              "    <tr style=\"text-align: right;\">\n",
              "      <th></th>\n",
              "      <th>label</th>\n",
              "      <th>predicted_label</th>\n",
              "    </tr>\n",
              "  </thead>\n",
              "  <tbody>\n",
              "    <tr>\n",
              "      <th>0</th>\n",
              "      <td>12.497353</td>\n",
              "      <td>11.336680</td>\n",
              "    </tr>\n",
              "    <tr>\n",
              "      <th>1</th>\n",
              "      <td>6.870365</td>\n",
              "      <td>9.973782</td>\n",
              "    </tr>\n",
              "    <tr>\n",
              "      <th>2</th>\n",
              "      <td>4.754888</td>\n",
              "      <td>4.819066</td>\n",
              "    </tr>\n",
              "    <tr>\n",
              "      <th>3</th>\n",
              "      <td>0.000000</td>\n",
              "      <td>4.925549</td>\n",
              "    </tr>\n",
              "    <tr>\n",
              "      <th>4</th>\n",
              "      <td>6.507795</td>\n",
              "      <td>7.911705</td>\n",
              "    </tr>\n",
              "    <tr>\n",
              "      <th>5</th>\n",
              "      <td>7.247928</td>\n",
              "      <td>8.594053</td>\n",
              "    </tr>\n",
              "    <tr>\n",
              "      <th>6</th>\n",
              "      <td>10.843921</td>\n",
              "      <td>11.890499</td>\n",
              "    </tr>\n",
              "    <tr>\n",
              "      <th>7</th>\n",
              "      <td>13.827243</td>\n",
              "      <td>13.107645</td>\n",
              "    </tr>\n",
              "    <tr>\n",
              "      <th>8</th>\n",
              "      <td>13.991699</td>\n",
              "      <td>13.120951</td>\n",
              "    </tr>\n",
              "  </tbody>\n",
              "</table>\n",
              "</div>"
            ],
            "text/plain": [
              "       label  predicted_label\n",
              "0  12.497353        11.336680\n",
              "1   6.870365         9.973782\n",
              "2   4.754888         4.819066\n",
              "3   0.000000         4.925549\n",
              "4   6.507795         7.911705\n",
              "5   7.247928         8.594053\n",
              "6  10.843921        11.890499\n",
              "7  13.827243        13.107645\n",
              "8  13.991699        13.120951"
            ]
          },
          "metadata": {
            "tags": []
          },
          "execution_count": 127
        }
      ]
    },
    {
      "cell_type": "markdown",
      "metadata": {
        "id": "Dg7Lhqi_yDcy"
      },
      "source": [
        "## Conclusion"
      ]
    },
    {
      "cell_type": "markdown",
      "metadata": {
        "id": "YmVpTigjyHMY"
      },
      "source": [
        "---\n",
        "\n",
        "In this linear model training, we only evaluated the user accounts that were created in 2010. Although the model could successfully predict the year 2011, we definitely lack the ability to predict the recent years (2018- present). This limitation is due to the fact that the user accounts created in 2018-present don't have enough reputation, downvotes, upvotes, and views. \n",
        "\n",
        "In the model above, I excluded user accounts where one or more features and label were NULL. Also, if any values of views, reputation, up_votes, and down_votes are zero, I replaced them with 1's in order to use \"log\" scaling. \n",
        "\n",
        "\n",
        "---"
      ]
    },
    {
      "cell_type": "markdown",
      "metadata": {
        "id": "HCWYmTndnzmd"
      },
      "source": [
        "-----\n",
        "\n",
        "The result of the prediction: \n",
        "log(Reputation) is linearly related to about_me_length, log(up_votes), log(down_votes), views, has_profile_image, and has_website_url  features. \n",
        "\n",
        "-----"
      ]
    }
  ]
}